{
  "nbformat": 4,
  "nbformat_minor": 0,
  "metadata": {
    "colab": {
      "provenance": [],
      "authorship_tag": "ABX9TyMPxiBrlLeXCFnRV3toFEDk",
      "include_colab_link": true
    },
    "kernelspec": {
      "name": "python3",
      "display_name": "Python 3"
    },
    "language_info": {
      "name": "python"
    }
  },
  "cells": [
    {
      "cell_type": "markdown",
      "metadata": {
        "id": "view-in-github",
        "colab_type": "text"
      },
      "source": [
        "<a href=\"https://colab.research.google.com/github/navyagona/python-practice/blob/main/25_06_24.ipynb\" target=\"_parent\"><img src=\"https://colab.research.google.com/assets/colab-badge.svg\" alt=\"Open In Colab\"/></a>"
      ]
    },
    {
      "cell_type": "markdown",
      "source": [
        " **Introduction to Numpy**\n",
        "\n",
        " NumPy is a Python library that helps you work with numbers and data easily. It lets you create and use large lists of numbers (called arrays) and do math operations on them quickly. It's widely used for data analysis, science, and machine learning projects.\n",
        "\n",
        " ***advantages of numpy***\n",
        "\n",
        "\n",
        "*   NumPy arrays use less memory as they store data more compactly compared to Python lists.\n",
        "*  NumPy supports vectorized operations, allowing you to perform element-wise operations on entire arrays without writing loops.\n",
        "*NumPy provides many built-in functions for mathematical operations, making it easier and faster to perform complex calculations.\n",
        "\n",
        "\n"
      ],
      "metadata": {
        "id": "wsrY61oVAoRV"
      }
    },
    {
      "cell_type": "code",
      "execution_count": 1,
      "metadata": {
        "colab": {
          "base_uri": "https://localhost:8080/"
        },
        "id": "E9K3SYQu5M3p",
        "outputId": "d91bc420-4a18-41d2-8e0c-f10d7727960c"
      },
      "outputs": [
        {
          "output_type": "stream",
          "name": "stdout",
          "text": [
            "1.25.2\n"
          ]
        }
      ],
      "source": [
        "import numpy as np\n",
        "print(np.__version__)\n"
      ]
    },
    {
      "cell_type": "markdown",
      "source": [
        "NumPy Arrays\n",
        "\n",
        "some commonly used numpy attributes:\n",
        "1.shape:This attribute returns a tuple representing the dimensions of the array (number of rows and columns)."
      ],
      "metadata": {
        "id": "9V-JRVRPU1gX"
      }
    },
    {
      "cell_type": "code",
      "source": [
        "# 1D array\n",
        "a = np.array([10, 20, 30, 40, 50])\n",
        "print(a.shape)\n",
        "\n",
        "# 2D array\n",
        "b = np.array([[10, 20, 30], [40, 50, 60]])\n",
        "print(b.shape)\n",
        "\n",
        "# 3D array\n",
        "c = np.array([[[10, 20], [30, 40]], [[50, 60], [70, 80]]])\n",
        "print(c.shape)"
      ],
      "metadata": {
        "colab": {
          "base_uri": "https://localhost:8080/"
        },
        "id": "dcfOU9oNWIVO",
        "outputId": "678dba97-6a16-4968-bab9-0e0184274577"
      },
      "execution_count": 2,
      "outputs": [
        {
          "output_type": "stream",
          "name": "stdout",
          "text": [
            "(5,)\n",
            "(2, 3)\n",
            "(2, 2, 2)\n"
          ]
        }
      ]
    },
    {
      "cell_type": "markdown",
      "source": [
        "size: This attribute returns the total number of elements in the array."
      ],
      "metadata": {
        "id": "Uc_BE6bTWdb9"
      }
    },
    {
      "cell_type": "code",
      "source": [
        "a = np.array([1, 2, 3, 4, 5, 6])\n",
        "print(a.size)"
      ],
      "metadata": {
        "colab": {
          "base_uri": "https://localhost:8080/"
        },
        "id": "J283UErxWhsk",
        "outputId": "656fa697-7180-4995-da79-85f31445017d"
      },
      "execution_count": 3,
      "outputs": [
        {
          "output_type": "stream",
          "name": "stdout",
          "text": [
            "6\n"
          ]
        }
      ]
    },
    {
      "cell_type": "markdown",
      "source": [
        "dtype: This attribute returns the data type of the elements in the array."
      ],
      "metadata": {
        "id": "zAEtFpBHWs7r"
      }
    },
    {
      "cell_type": "code",
      "source": [
        "# Integer array\n",
        "a = np.array([10, 20, 30, 40])\n",
        "print(a.dtype)\n",
        "\n",
        "# Float array\n",
        "b = np.array([1.0, 2.0, 3.0])\n",
        "print(b.dtype)\n",
        "\n",
        "# Complex array\n",
        "c = np.array([1+2j, 3+4j])\n",
        "print(c.dtype)\n",
        "\n",
        "# Boolean array\n",
        "d = np.array([True, False, True])\n",
        "print(d.dtype)"
      ],
      "metadata": {
        "colab": {
          "base_uri": "https://localhost:8080/"
        },
        "id": "2HT1pp5lWzyR",
        "outputId": "bf9c764c-1e3a-4000-c069-2c3968e7c183"
      },
      "execution_count": 4,
      "outputs": [
        {
          "output_type": "stream",
          "name": "stdout",
          "text": [
            "int64\n",
            "float64\n",
            "complex128\n",
            "bool\n"
          ]
        }
      ]
    },
    {
      "cell_type": "markdown",
      "source": [
        "commonly used functions to create arrays\n",
        "\n",
        "np.array(): Create an array from a Python list or tuple."
      ],
      "metadata": {
        "id": "m0R11JTCXIzd"
      }
    },
    {
      "cell_type": "code",
      "source": [
        "import numpy as np\n",
        "arr = np.array([1, 2, 3])\n"
      ],
      "metadata": {
        "id": "WXg_scJ9YPDz"
      },
      "execution_count": 6,
      "outputs": []
    },
    {
      "cell_type": "markdown",
      "source": [
        "np.zeros(): Create an array of zeros with a specified shape."
      ],
      "metadata": {
        "id": "HL2mRNlaYZrL"
      }
    },
    {
      "cell_type": "code",
      "source": [
        "zeros_arr = np.zeros((2, 3))\n"
      ],
      "metadata": {
        "id": "B0H6jaDqYdEU"
      },
      "execution_count": 7,
      "outputs": []
    },
    {
      "cell_type": "markdown",
      "source": [
        "np.ones(): Create an array of ones with a specified shape."
      ],
      "metadata": {
        "id": "x462djjVYiek"
      }
    },
    {
      "cell_type": "code",
      "source": [
        "ones_arr = np.ones((3, 2))  # Creates a 3x2 array of ones\n"
      ],
      "metadata": {
        "id": "z30l4nkFYpeD"
      },
      "execution_count": 8,
      "outputs": []
    },
    {
      "cell_type": "markdown",
      "source": [
        "np.full(): Create an array with a specified shape and fill it with a specified value."
      ],
      "metadata": {
        "id": "wV8wBicAYtgg"
      }
    },
    {
      "cell_type": "code",
      "source": [
        "full_arr = np.full((2, 2), 5)  # Creates a 2x2 array filled with 5\n"
      ],
      "metadata": {
        "id": "-40DSKkjYyue"
      },
      "execution_count": 9,
      "outputs": []
    },
    {
      "cell_type": "markdown",
      "source": [
        "np.arange(): Create an array with evenly spaced values within a given interval."
      ],
      "metadata": {
        "id": "xhkg5UibY2IH"
      }
    },
    {
      "cell_type": "code",
      "source": [
        "arange_arr = np.arange(0, 10, 2)  # Creates array [0, 2, 4, 6, 8]\n"
      ],
      "metadata": {
        "id": "MwdWnJD_Y5p7"
      },
      "execution_count": 10,
      "outputs": []
    },
    {
      "cell_type": "markdown",
      "source": [
        "np.linspace(): Create an array with evenly spaced values over a specified interval."
      ],
      "metadata": {
        "id": "nIbhIAITY9Z8"
      }
    },
    {
      "cell_type": "code",
      "source": [
        "linspace_arr = np.linspace(0, 1, 5)  # Creates array [0.  0.25  0.5  0.75  1.]\n"
      ],
      "metadata": {
        "id": "k8W8OhQvZEJz"
      },
      "execution_count": 11,
      "outputs": []
    },
    {
      "cell_type": "markdown",
      "source": [
        "np.random.rand(): Create an array of specified shape with random values from a uniform distribution over [0, 1)"
      ],
      "metadata": {
        "id": "Ng0DGjyhZHzF"
      }
    },
    {
      "cell_type": "code",
      "source": [
        "rand_arr = np.random.rand(2, 3)  # Creates a 2x3 array of random values\n"
      ],
      "metadata": {
        "id": "kTQDAriYZLa4"
      },
      "execution_count": 12,
      "outputs": []
    },
    {
      "cell_type": "markdown",
      "source": [
        "np.eye(): Create an identity matrix of a specified size."
      ],
      "metadata": {
        "id": "cHeDOVv4ZOcG"
      }
    },
    {
      "cell_type": "code",
      "source": [
        "eye_arr = np.eye(3)  # Creates a 3x3 identity matrix\n"
      ],
      "metadata": {
        "id": "-PTbuzYPZS8C"
      },
      "execution_count": 13,
      "outputs": []
    },
    {
      "cell_type": "markdown",
      "source": [
        "np.empty(): Create an uninitialized array of specified shape and data type."
      ],
      "metadata": {
        "id": "1UHKfK4LZWVw"
      }
    },
    {
      "cell_type": "code",
      "source": [
        "empty_arr = np.empty((2, 2))  # Creates a 2x2 array (initial contents are random)\n"
      ],
      "metadata": {
        "id": "CiuXM1voZZhK"
      },
      "execution_count": 14,
      "outputs": []
    },
    {
      "cell_type": "markdown",
      "source": [
        "Numpy Array operations and broadcasting\n",
        "\n",
        "1.basic array operations:\n",
        "\n",
        "addition:add two arrays\n"
      ],
      "metadata": {
        "id": "x4cBwQiZfPFF"
      }
    },
    {
      "cell_type": "code",
      "source": [
        "a = np.array([2, 4, 6])\n",
        "b = np.array([4, 8, 10])\n",
        "\n",
        "c = a + b\n",
        "print(c)"
      ],
      "metadata": {
        "colab": {
          "base_uri": "https://localhost:8080/"
        },
        "id": "jyBQsRhbhUrn",
        "outputId": "c463d009-9415-4019-a70b-20a00c994b92"
      },
      "execution_count": 15,
      "outputs": [
        {
          "output_type": "stream",
          "name": "stdout",
          "text": [
            "[ 6 12 16]\n"
          ]
        }
      ]
    },
    {
      "cell_type": "markdown",
      "source": [
        "subtraction:subtract two arrays"
      ],
      "metadata": {
        "id": "n9WnYAIQhgRq"
      }
    },
    {
      "cell_type": "code",
      "source": [
        "a = np.array([8, 9, 10])\n",
        "b = np.array([4, 5, 6])\n",
        "\n",
        "c = a - b\n",
        "print(c)"
      ],
      "metadata": {
        "colab": {
          "base_uri": "https://localhost:8080/"
        },
        "id": "M_krp0hLhoSw",
        "outputId": "559d3407-1691-4a38-f40b-2f7276b9d026"
      },
      "execution_count": 16,
      "outputs": [
        {
          "output_type": "stream",
          "name": "stdout",
          "text": [
            "[4 4 4]\n"
          ]
        }
      ]
    },
    {
      "cell_type": "markdown",
      "source": [
        "multiplication:multiply two arrays"
      ],
      "metadata": {
        "id": "rkppX8o4hwYn"
      }
    },
    {
      "cell_type": "code",
      "source": [
        "a = np.array([1, 2, 3])\n",
        "b = np.array([4, 5, 6])\n",
        "\n",
        "c = a * b\n",
        "print(c)"
      ],
      "metadata": {
        "colab": {
          "base_uri": "https://localhost:8080/"
        },
        "id": "F9bi5uqeh7X3",
        "outputId": "1aed60a8-58d5-4ec8-ecdd-67faeea2d52d"
      },
      "execution_count": 17,
      "outputs": [
        {
          "output_type": "stream",
          "name": "stdout",
          "text": [
            "[ 4 10 18]\n"
          ]
        }
      ]
    },
    {
      "cell_type": "markdown",
      "source": [
        "division:divide two arrays"
      ],
      "metadata": {
        "id": "RoWC4xP4h_C8"
      }
    },
    {
      "cell_type": "code",
      "source": [
        "a = np.array([8, 10, 12])\n",
        "b = np.array([4, 5, 6])\n",
        "\n",
        "c = a / b\n",
        "print(c)"
      ],
      "metadata": {
        "colab": {
          "base_uri": "https://localhost:8080/"
        },
        "id": "0Tu1lZfZiFVW",
        "outputId": "809ad358-9045-4ab6-8011-a77875ffff2b"
      },
      "execution_count": 18,
      "outputs": [
        {
          "output_type": "stream",
          "name": "stdout",
          "text": [
            "[2. 2. 2.]\n"
          ]
        }
      ]
    },
    {
      "cell_type": "markdown",
      "source": [
        "Scalar Operations: Multiplies/Divides each element of the array by the scalar value"
      ],
      "metadata": {
        "id": "qS7CHMZ6iMHp"
      }
    },
    {
      "cell_type": "code",
      "source": [
        "a = np.array([2, 4, 6])\n",
        "\n",
        "b = a * 2\n",
        "print(b)\n",
        "\n",
        "c = a / 2\n",
        "print(c)"
      ],
      "metadata": {
        "colab": {
          "base_uri": "https://localhost:8080/"
        },
        "id": "ocoYckJYiRx8",
        "outputId": "61ffbfe8-9638-43d1-ea47-19c717e9242f"
      },
      "execution_count": 19,
      "outputs": [
        {
          "output_type": "stream",
          "name": "stdout",
          "text": [
            "[ 4  8 12]\n",
            "[1. 2. 3.]\n"
          ]
        }
      ]
    },
    {
      "cell_type": "markdown",
      "source": [
        "Square Root(np.sqrt()): Computes the square root of each element in the array."
      ],
      "metadata": {
        "id": "Ytax3zsSieD3"
      }
    },
    {
      "cell_type": "code",
      "source": [
        " a= np.array([1, 16, 25])\n",
        "\n",
        "b = np.sqrt(a)\n",
        "print(b)"
      ],
      "metadata": {
        "colab": {
          "base_uri": "https://localhost:8080/"
        },
        "id": "lbdn_c0Eijd-",
        "outputId": "5ea209e1-b6c9-4dbc-c752-cb3eb370e063"
      },
      "execution_count": 20,
      "outputs": [
        {
          "output_type": "stream",
          "name": "stdout",
          "text": [
            "[1. 4. 5.]\n"
          ]
        }
      ]
    },
    {
      "cell_type": "markdown",
      "source": [
        "Exponential(np.exp()): Computes the exponential of each element in the array."
      ],
      "metadata": {
        "id": "eXjgS2Nqivm4"
      }
    },
    {
      "cell_type": "code",
      "source": [
        "a = np.array([4, 5, 6])\n",
        "\n",
        "b = np.exp(a)\n",
        "print(b)"
      ],
      "metadata": {
        "colab": {
          "base_uri": "https://localhost:8080/"
        },
        "id": "700Ju0b_i2T4",
        "outputId": "ba813c2b-7e2e-42cb-8967-825276125078"
      },
      "execution_count": 21,
      "outputs": [
        {
          "output_type": "stream",
          "name": "stdout",
          "text": [
            "[ 54.59815003 148.4131591  403.42879349]\n"
          ]
        }
      ]
    },
    {
      "cell_type": "markdown",
      "source": [
        "BROADCASTING:"
      ],
      "metadata": {
        "id": "P10VXKuhi_Co"
      }
    },
    {
      "cell_type": "code",
      "source": [
        "import numpy as np\n",
        "\n",
        "# Create an array\n",
        "arr = np.array([[1, 2, 3], [4, 5, 6]])\n",
        "\n",
        "# Add a scalar to each element of the array\n",
        "result = arr + 10\n",
        "print(result)\n",
        "# Output:\n",
        "# [[11 12 13]\n",
        "#  [14 15 16]]\n"
      ],
      "metadata": {
        "colab": {
          "base_uri": "https://localhost:8080/"
        },
        "id": "D63uM85ljdTY",
        "outputId": "589ff978-13c2-4e29-f6df-855cf9ba26b2"
      },
      "execution_count": 22,
      "outputs": [
        {
          "output_type": "stream",
          "name": "stdout",
          "text": [
            "[[11 12 13]\n",
            " [14 15 16]]\n"
          ]
        }
      ]
    },
    {
      "cell_type": "code",
      "source": [
        "import numpy as np\n",
        "\n",
        "# Create two arrays of different shapes\n",
        "A = np.array([[1, 2, 3], [4, 5, 6]])\n",
        "B = np.array([10, 20, 30])\n",
        "\n",
        "# Add arrays with different shapes\n",
        "C = A + B\n",
        "print(C)\n",
        "# Output:\n",
        "# [[11 22 33]\n",
        "#  [14 25 36]]\n"
      ],
      "metadata": {
        "colab": {
          "base_uri": "https://localhost:8080/"
        },
        "id": "hU_e2lkCjifY",
        "outputId": "c068acb1-3c38-40ad-d4aa-4e9eaaf78fcc"
      },
      "execution_count": 23,
      "outputs": [
        {
          "output_type": "stream",
          "name": "stdout",
          "text": [
            "[[11 22 33]\n",
            " [14 25 36]]\n"
          ]
        }
      ]
    },
    {
      "cell_type": "code",
      "source": [
        "import numpy as np\n",
        "\n",
        "# Create two arrays of different shapes\n",
        "A = np.array([[1, 2, 3], [4, 5, 6]])\n",
        "B = np.array([[10], [20]])\n",
        "\n",
        "# Add arrays with different shapes\n",
        "C = A + B\n",
        "print(C)\n",
        "# Output:\n",
        "# [[11 12 13]\n",
        "#  [24 25 26]]\n"
      ],
      "metadata": {
        "colab": {
          "base_uri": "https://localhost:8080/"
        },
        "id": "qArmSEG4jl-w",
        "outputId": "c1c91b25-01ff-4d39-a07d-c333abf41754"
      },
      "execution_count": 24,
      "outputs": [
        {
          "output_type": "stream",
          "name": "stdout",
          "text": [
            "[[11 12 13]\n",
            " [24 25 26]]\n"
          ]
        }
      ]
    },
    {
      "cell_type": "code",
      "source": [
        "import numpy as np\n",
        "\n",
        "# Create two arrays of different shapes\n",
        "A = np.array([1, 2, 3])  # Shape: (3,)\n",
        "B = 10  # Scalar\n",
        "\n",
        "# Multiply each element of A by scalar B\n",
        "C = A * B\n",
        "print(C)  # Output: [10 20 30]\n"
      ],
      "metadata": {
        "colab": {
          "base_uri": "https://localhost:8080/"
        },
        "id": "hW0ukyZ2jpYA",
        "outputId": "881d5221-5847-4fa3-f634-a4cd21dfac13"
      },
      "execution_count": 25,
      "outputs": [
        {
          "output_type": "stream",
          "name": "stdout",
          "text": [
            "[10 20 30]\n"
          ]
        }
      ]
    },
    {
      "cell_type": "markdown",
      "source": [
        "Element-wise Operations And Their Efficiency"
      ],
      "metadata": {
        "id": "mpyLLMJskUUM"
      }
    },
    {
      "cell_type": "code",
      "source": [
        "import numpy as np\n",
        "import time\n",
        "\n",
        "# Create two large arrays\n",
        "size = 1000000\n",
        "A = np.random.rand(size)\n",
        "B = np.random.rand(size)\n",
        "\n",
        "# Perform element-wise addition using NumPy\n",
        "start_time = time.time()\n",
        "C = A + B\n",
        "numpy_time = time.time() - start_time\n",
        "\n",
        "# Perform element-wise addition using Python loops\n",
        "start_time = time.time()\n",
        "D = []\n",
        "for i in range(size):\n",
        "    D.append(A[i] + B[i])\n",
        "python_time = time.time() - start_time\n",
        "\n",
        "# Compare the execution times\n",
        "print(f\"NumPy execution time: {numpy_time} seconds\")\n",
        "print(f\"Python loop execution time: {python_time} seconds\")\n",
        "print(f\"NumPy is {python_time / numpy_time:.2f} times faster than Python loops for this operation.\")\n"
      ],
      "metadata": {
        "colab": {
          "base_uri": "https://localhost:8080/"
        },
        "id": "KsSvH3UtkVj6",
        "outputId": "ceffb4b8-ce98-4ac6-8102-fd23b7e31fa8"
      },
      "execution_count": 27,
      "outputs": [
        {
          "output_type": "stream",
          "name": "stdout",
          "text": [
            "NumPy execution time: 0.006707429885864258 seconds\n",
            "Python loop execution time: 0.45642542839050293 seconds\n",
            "NumPy is 68.05 times faster than Python loops for this operation.\n"
          ]
        }
      ]
    },
    {
      "cell_type": "markdown",
      "source": [
        "indexing and slicing:"
      ],
      "metadata": {
        "id": "Y2BHJnalk2TM"
      }
    },
    {
      "cell_type": "code",
      "source": [
        "import numpy as np\n",
        "\n",
        "# Create a 2D NumPy array (matrix)\n",
        "arr = np.array([[1, 2, 3, 4],\n",
        "                [5, 6, 7, 8],\n",
        "                [9, 10, 11, 12]])\n",
        "\n",
        "# Indexing to access specific elements\n",
        "print(\"Element at row 0, column 1:\", arr[0, 1])  # Output: 2\n",
        "print(\"Element at row 2, column 3:\", arr[2, 3])  # Output: 12\n",
        "\n",
        "# Slicing to extract subarrays\n",
        "print(\"First row:\", arr[0])  # Output: [1 2 3 4]\n",
        "print(\"First column:\", arr[:, 0])  # Output: [1 5 9]\n",
        "\n",
        "# Slicing a subarray\n",
        "print(\"Subarray from row 1 to 2, and column 1 to 3:\")\n",
        "print(arr[1:3, 1:4])\n",
        "# Output:\n",
        "# [[ 6  7  8]\n",
        "#  [10 11 12]]\n"
      ],
      "metadata": {
        "colab": {
          "base_uri": "https://localhost:8080/"
        },
        "id": "4AY8h_Owkz-1",
        "outputId": "f5d9f1e1-9e86-4dc2-a86a-97abf71730e0"
      },
      "execution_count": 28,
      "outputs": [
        {
          "output_type": "stream",
          "name": "stdout",
          "text": [
            "Element at row 0, column 1: 2\n",
            "Element at row 2, column 3: 12\n",
            "First row: [1 2 3 4]\n",
            "First column: [1 5 9]\n",
            "Subarray from row 1 to 2, and column 1 to 3:\n",
            "[[ 6  7  8]\n",
            " [10 11 12]]\n"
          ]
        }
      ]
    },
    {
      "cell_type": "markdown",
      "source": [
        "ARRAY MANIPULATION:\n",
        "1.reshaping arrays:"
      ],
      "metadata": {
        "id": "x-pGspg0k55z"
      }
    },
    {
      "cell_type": "code",
      "source": [
        "import numpy as np\n",
        "\n",
        "# Create a 1D array\n",
        "arr1d = np.array([1, 2, 3, 4, 5, 6])\n",
        "\n",
        "# Reshape into a 2D array (3 rows, 2 columns)\n",
        "arr2d = arr1d.reshape(3, 2)\n",
        "print(\"Reshaped 2D array:\")\n",
        "print(arr2d)\n",
        "# Output:\n",
        "# [[1 2]\n",
        "#  [3 4]\n",
        "#  [5 6]]\n",
        "\n",
        "# Flatten the array back to 1D\n",
        "flattened_arr = arr2d.flatten()\n",
        "print(\"Flattened 1D array:\")\n",
        "print(flattened_arr)\n",
        "# Output: [1 2 3 4 5 6]\n"
      ],
      "metadata": {
        "colab": {
          "base_uri": "https://localhost:8080/"
        },
        "id": "2WtzgwU6lhps",
        "outputId": "b8b4472d-3e91-4689-e038-80255e92c313"
      },
      "execution_count": 29,
      "outputs": [
        {
          "output_type": "stream",
          "name": "stdout",
          "text": [
            "Reshaped 2D array:\n",
            "[[1 2]\n",
            " [3 4]\n",
            " [5 6]]\n",
            "Flattened 1D array:\n",
            "[1 2 3 4 5 6]\n"
          ]
        }
      ]
    },
    {
      "cell_type": "markdown",
      "source": [
        "concateation"
      ],
      "metadata": {
        "id": "6DnloIhCllBg"
      }
    },
    {
      "cell_type": "code",
      "source": [
        "import numpy as np\n",
        "\n",
        "# Create two arrays\n",
        "arr1 = np.array([[1, 2], [3, 4]])\n",
        "arr2 = np.array([[5, 6]])\n",
        "\n",
        "# Concatenate along axis 0 (rows)\n",
        "concatenated_arr = np.concatenate((arr1, arr2), axis=0)\n",
        "print(\"Concatenated array along axis 0:\")\n",
        "print(concatenated_arr)\n",
        "# Output:\n",
        "# [[1 2]\n",
        "#  [3 4]\n",
        "#  [5 6]]\n"
      ],
      "metadata": {
        "colab": {
          "base_uri": "https://localhost:8080/"
        },
        "id": "QFvDCV6vlqqu",
        "outputId": "ee2f13f9-8a02-4848-e24d-f44f962673c0"
      },
      "execution_count": 30,
      "outputs": [
        {
          "output_type": "stream",
          "name": "stdout",
          "text": [
            "Concatenated array along axis 0:\n",
            "[[1 2]\n",
            " [3 4]\n",
            " [5 6]]\n"
          ]
        }
      ]
    },
    {
      "cell_type": "markdown",
      "source": [
        "splitting arrays"
      ],
      "metadata": {
        "id": "czwdRSz3lt9p"
      }
    },
    {
      "cell_type": "code",
      "source": [
        "import numpy as np\n",
        "\n",
        "# Create an array\n",
        "arr = np.array([[1, 2, 3], [4, 5, 6], [7, 8, 9], [10, 11, 12]])\n",
        "\n",
        "# Split the array into 2 subarrays along axis 0\n",
        "subarrays = np.split(arr, 2, axis=0)\n",
        "print(\"Split array along axis 0:\")\n",
        "print(subarrays)\n",
        "# Output:\n",
        "# [array([[1, 2, 3],\n",
        "#         [4, 5, 6]]),\n",
        "#  array([[ 7,  8,  9],\n",
        "#         [10, 11, 12]])]\n",
        "\n",
        "# Split the array into 3 subarrays along axis 1\n",
        "subarrays_axis1 = np.split(arr, 3, axis=1)\n",
        "print(\"Split array along axis 1:\")\n",
        "print(subarrays_axis1)\n",
        "# Output:\n",
        "# [array([[ 1],\n",
        "#         [ 4],\n",
        "#         [ 7],\n",
        "#         [10]]),\n",
        "#  array([[ 2],\n",
        "#         [ 5],\n",
        "#         [ 8],\n",
        "#         [11]]),\n",
        "#  array([[ 3],\n",
        "#         [ 6],\n",
        "#         [ 9],\n",
        "#         [12]])]\n"
      ],
      "metadata": {
        "colab": {
          "base_uri": "https://localhost:8080/"
        },
        "id": "_1IHZoxhlw-q",
        "outputId": "5c88d9bc-c76e-42e4-89f9-0fb860cb3a61"
      },
      "execution_count": 31,
      "outputs": [
        {
          "output_type": "stream",
          "name": "stdout",
          "text": [
            "Split array along axis 0:\n",
            "[array([[1, 2, 3],\n",
            "       [4, 5, 6]]), array([[ 7,  8,  9],\n",
            "       [10, 11, 12]])]\n",
            "Split array along axis 1:\n",
            "[array([[ 1],\n",
            "       [ 4],\n",
            "       [ 7],\n",
            "       [10]]), array([[ 2],\n",
            "       [ 5],\n",
            "       [ 8],\n",
            "       [11]]), array([[ 3],\n",
            "       [ 6],\n",
            "       [ 9],\n",
            "       [12]])]\n"
          ]
        }
      ]
    },
    {
      "cell_type": "markdown",
      "source": [
        "transposing arrays"
      ],
      "metadata": {
        "id": "TwtsEOGwl3jF"
      }
    },
    {
      "cell_type": "code",
      "source": [
        "import numpy as np\n",
        "\n",
        "# Create a 2D array\n",
        "arr = np.array([[1, 2, 3], [4, 5, 6]])\n",
        "\n",
        "# Transpose the array\n",
        "transposed_arr = np.transpose(arr)\n",
        "print(\"Transposed array:\")\n",
        "print(transposed_arr)\n",
        "# Output:\n",
        "# [[1 4]\n",
        "#  [2 5]\n",
        "#  [3 6]]\n"
      ],
      "metadata": {
        "colab": {
          "base_uri": "https://localhost:8080/"
        },
        "id": "EIwz4fO6l8zo",
        "outputId": "e4c3ae41-4d12-4334-feb3-197ead4bde12"
      },
      "execution_count": 32,
      "outputs": [
        {
          "output_type": "stream",
          "name": "stdout",
          "text": [
            "Transposed array:\n",
            "[[1 4]\n",
            " [2 5]\n",
            " [3 6]]\n"
          ]
        }
      ]
    },
    {
      "cell_type": "markdown",
      "source": [
        "stacking arrays"
      ],
      "metadata": {
        "id": "iYjIE7MAl__d"
      }
    },
    {
      "cell_type": "code",
      "source": [
        "import numpy as np\n",
        "\n",
        "# Create two arrays\n",
        "arr1 = np.array([1, 2, 3])\n",
        "arr2 = np.array([4, 5, 6])\n",
        "\n",
        "# Stack arrays vertically (along axis 0)\n",
        "stacked_vertically = np.vstack((arr1, arr2))\n",
        "print(\"Vertically stacked array:\")\n",
        "print(stacked_vertically)\n",
        "# Output:\n",
        "# [[1 2 3]\n",
        "#  [4 5 6]]\n",
        "\n",
        "# Stack arrays horizontally (along axis 1)\n",
        "stacked_horizontally = np.hstack((arr1.reshape(-1, 1), arr2.reshape(-1, 1)))\n",
        "print(\"Horizontally stacked array:\")\n",
        "print(stacked_horizontally)\n",
        "# Output:\n",
        "# [[1 4]\n",
        "#  [2 5]\n",
        "#  [3 6]]\n"
      ],
      "metadata": {
        "colab": {
          "base_uri": "https://localhost:8080/"
        },
        "id": "5PX1ourBmC--",
        "outputId": "fb0d99b1-ea33-4eff-f6e5-f40bbb9f68df"
      },
      "execution_count": 33,
      "outputs": [
        {
          "output_type": "stream",
          "name": "stdout",
          "text": [
            "Vertically stacked array:\n",
            "[[1 2 3]\n",
            " [4 5 6]]\n",
            "Horizontally stacked array:\n",
            "[[1 4]\n",
            " [2 5]\n",
            " [3 6]]\n"
          ]
        }
      ]
    },
    {
      "cell_type": "markdown",
      "source": [
        "stacking and splitting of arrays"
      ],
      "metadata": {
        "id": "lJCXkbEzmLIy"
      }
    },
    {
      "cell_type": "code",
      "source": [
        "import numpy as np\n",
        "\n",
        "# Create two arrays\n",
        "arr1 = np.array([[1, 2, 3],\n",
        "                 [4, 5, 6]])\n",
        "\n",
        "arr2 = np.array([[7, 8, 9],\n",
        "                 [10, 11, 12]])\n",
        "\n",
        "# Stack arrays vertically (along axis 0)\n",
        "stacked_vertically = np.vstack((arr1, arr2))\n",
        "print(\"Vertically stacked array:\")\n",
        "print(stacked_vertically)\n",
        "# Output:\n",
        "# [[ 1  2  3]\n",
        "#  [ 4  5  6]\n",
        "#  [ 7  8  9]\n",
        "#  [10 11 12]]\n",
        "\n",
        "# Split the vertically stacked array into 2 subarrays along axis 0\n",
        "subarrays = np.split(stacked_vertically, 2, axis=0)\n",
        "print(\"\\nSplit vertically stacked array along axis 0:\")\n",
        "print(subarrays)\n",
        "# Output:\n",
        "# [array([[1, 2, 3],\n",
        "#         [4, 5, 6]]),\n",
        "#  array([[ 7,  8,  9],\n",
        "#         [10, 11, 12]])]\n",
        "\n",
        "# Stack arrays horizontally (along axis 1)\n",
        "stacked_horizontally = np.hstack((arr1, arr2))\n",
        "print(\"\\nHorizontally stacked array:\")\n",
        "print(stacked_horizontally)\n",
        "# Output:\n",
        "# [[ 1  2  3  7  8  9]\n",
        "#  [ 4  5  6 10 11 12]]\n",
        "\n",
        "# Split the horizontally stacked array into 2 subarrays along axis 1\n",
        "subarrays_axis1 = np.split(stacked_horizontally, 2, axis=1)\n",
        "print(\"\\nSplit horizontally stacked array along axis 1:\")\n",
        "print(subarrays_axis1)\n",
        "# Output:\n",
        "# [array([[1, 2, 3],\n",
        "#         [4, 5, 6]]),\n",
        "#  array([[ 7,  8,  9],\n",
        "#         [10, 11, 12]])]\n"
      ],
      "metadata": {
        "colab": {
          "base_uri": "https://localhost:8080/"
        },
        "id": "uelVaCUtmjS3",
        "outputId": "47cac1bf-f542-4f19-d7a9-dbf35c9acead"
      },
      "execution_count": 34,
      "outputs": [
        {
          "output_type": "stream",
          "name": "stdout",
          "text": [
            "Vertically stacked array:\n",
            "[[ 1  2  3]\n",
            " [ 4  5  6]\n",
            " [ 7  8  9]\n",
            " [10 11 12]]\n",
            "\n",
            "Split vertically stacked array along axis 0:\n",
            "[array([[1, 2, 3],\n",
            "       [4, 5, 6]]), array([[ 7,  8,  9],\n",
            "       [10, 11, 12]])]\n",
            "\n",
            "Horizontally stacked array:\n",
            "[[ 1  2  3  7  8  9]\n",
            " [ 4  5  6 10 11 12]]\n",
            "\n",
            "Split horizontally stacked array along axis 1:\n",
            "[array([[1, 2, 3],\n",
            "       [4, 5, 6]]), array([[ 7,  8,  9],\n",
            "       [10, 11, 12]])]\n"
          ]
        }
      ]
    },
    {
      "cell_type": "markdown",
      "source": [
        "methods for adding and removing elements\n",
        "\n",
        "1.Appending Elements"
      ],
      "metadata": {
        "id": "UAgZn1qemloj"
      }
    },
    {
      "cell_type": "code",
      "source": [
        "import numpy as np\n",
        "\n",
        "# Example of appending elements\n",
        "arr = np.array([1, 2, 3])\n",
        "new_arr = np.append(arr, [4, 5, 6])\n",
        "print(\"Appended array:\", new_arr)\n",
        "# Output: [1 2 3 4 5 6]\n"
      ],
      "metadata": {
        "colab": {
          "base_uri": "https://localhost:8080/"
        },
        "id": "kbn2ijj3m_Im",
        "outputId": "fb07bd84-7c20-48a5-e395-4a13a92b4d53"
      },
      "execution_count": 35,
      "outputs": [
        {
          "output_type": "stream",
          "name": "stdout",
          "text": [
            "Appended array: [1 2 3 4 5 6]\n"
          ]
        }
      ]
    },
    {
      "cell_type": "markdown",
      "source": [
        "2.Inserting Elements"
      ],
      "metadata": {
        "id": "mW5H_zY0nCS8"
      }
    },
    {
      "cell_type": "code",
      "source": [
        "import numpy as np\n",
        "\n",
        "# Example of inserting elements\n",
        "arr = np.array([1, 2, 3, 4, 5])\n",
        "new_arr = np.insert(arr, 2, [6, 7])\n",
        "print(\"Inserted array:\", new_arr)\n",
        "# Output: [1 2 6 7 3 4 5]\n"
      ],
      "metadata": {
        "colab": {
          "base_uri": "https://localhost:8080/"
        },
        "id": "jrYLFArQnF_5",
        "outputId": "47ff795b-07cc-4202-901e-eefd263649ff"
      },
      "execution_count": 36,
      "outputs": [
        {
          "output_type": "stream",
          "name": "stdout",
          "text": [
            "Inserted array: [1 2 6 7 3 4 5]\n"
          ]
        }
      ]
    },
    {
      "cell_type": "markdown",
      "source": [
        "3.Deleting Elements"
      ],
      "metadata": {
        "id": "ipul1tsYnI62"
      }
    },
    {
      "cell_type": "code",
      "source": [
        "import numpy as np\n",
        "\n",
        "# Example of deleting elements\n",
        "arr = np.array([1, 2, 3, 4, 5])\n",
        "new_arr = np.delete(arr, 2)\n",
        "print(\"Deleted array:\", new_arr)\n",
        "# Output: [1 2 4 5]\n"
      ],
      "metadata": {
        "colab": {
          "base_uri": "https://localhost:8080/"
        },
        "id": "XD5GmIfqnLrH",
        "outputId": "53035c86-7f57-4e79-f192-8887de9c2299"
      },
      "execution_count": 37,
      "outputs": [
        {
          "output_type": "stream",
          "name": "stdout",
          "text": [
            "Deleted array: [1 2 4 5]\n"
          ]
        }
      ]
    },
    {
      "cell_type": "markdown",
      "source": [
        "4.Trimming Elements"
      ],
      "metadata": {
        "id": "7fghTpN8nQOe"
      }
    },
    {
      "cell_type": "code",
      "source": [
        "import numpy as np\n",
        "\n",
        "# Example of trimming elements\n",
        "arr = np.array([1, 2, 3, 4, 5])\n",
        "new_arr = arr[:-2]  # Keep all elements except the last two\n",
        "print(\"Trimmed array:\", new_arr)\n",
        "# Output: [1 2 3]\n"
      ],
      "metadata": {
        "colab": {
          "base_uri": "https://localhost:8080/"
        },
        "id": "cEqsnRJSnUsv",
        "outputId": "b0e239b1-18a9-4c17-d060-9d052d140aa0"
      },
      "execution_count": 38,
      "outputs": [
        {
          "output_type": "stream",
          "name": "stdout",
          "text": [
            "Trimmed array: [1 2 3]\n"
          ]
        }
      ]
    }
  ]
}
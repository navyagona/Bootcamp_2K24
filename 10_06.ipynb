{
  "nbformat": 4,
  "nbformat_minor": 0,
  "metadata": {
    "colab": {
      "provenance": [],
      "authorship_tag": "ABX9TyPCmjt8WXgg4b55bBErzOWA",
      "include_colab_link": true
    },
    "kernelspec": {
      "name": "python3",
      "display_name": "Python 3"
    },
    "language_info": {
      "name": "python"
    }
  },
  "cells": [
    {
      "cell_type": "markdown",
      "metadata": {
        "id": "view-in-github",
        "colab_type": "text"
      },
      "source": [
        "<a href=\"https://colab.research.google.com/github/navyagona/python-practice/blob/main/10_06.ipynb\" target=\"_parent\"><img src=\"https://colab.research.google.com/assets/colab-badge.svg\" alt=\"Open In Colab\"/></a>"
      ]
    },
    {
      "cell_type": "markdown",
      "source": [
        "# LIST:\n",
        "Python lists are the fundamental data structures that enable you to store a sequence of items\n",
        "characteristics of Python lists:-\n",
        "###Ordered:\n",
        "Lists maintain the sequence of items as they are added. The position of each item is preserved based on the order of insertion."
      ],
      "metadata": {
        "id": "sQ1ITjm0xx7I"
      }
    },
    {
      "cell_type": "code",
      "execution_count": 1,
      "metadata": {
        "colab": {
          "base_uri": "https://localhost:8080/"
        },
        "id": "TK1yctfmuWv_",
        "outputId": "4e052dd9-dd63-4003-cb0f-5d17743017b1"
      },
      "outputs": [
        {
          "output_type": "stream",
          "name": "stdout",
          "text": [
            "['bike', 'car', 'bus']\n"
          ]
        }
      ],
      "source": [
        "\n",
        "vehicles = [\"bike\", \"car\", \"bus\"]\n",
        "\n",
        "print(vehicles)\n",
        "\n",
        "\n"
      ]
    },
    {
      "cell_type": "markdown",
      "source": [
        "###indexable\n",
        "we can easily access individual elements of a list using their index. This allows us to retrieve, modify, or delete items based on their position."
      ],
      "metadata": {
        "id": "jYja9RqAzsTq"
      }
    },
    {
      "cell_type": "code",
      "source": [
        "\n",
        "numbers = [10, 20, 30, 40, 50]\n",
        "print(numbers[2])\n",
        "\n"
      ],
      "metadata": {
        "colab": {
          "base_uri": "https://localhost:8080/"
        },
        "id": "rAEWyMdW3D2h",
        "outputId": "79cb0472-bfea-482c-b46f-5460fa8b7c60"
      },
      "execution_count": 2,
      "outputs": [
        {
          "output_type": "stream",
          "name": "stdout",
          "text": [
            "30\n"
          ]
        }
      ]
    },
    {
      "cell_type": "markdown",
      "source": [
        "###Mutable:\n",
        "Lists can be changed after they are created. You can add new elements, remove existing ones, or change the value of elements."
      ],
      "metadata": {
        "id": "Yu8wdh-T3XGv"
      }
    },
    {
      "cell_type": "code",
      "source": [
        "\n",
        "colors = [\"red\", \"blue\", \"green\"]\n",
        "colors.append(\"yellow\")\n",
        "print(colors)\n",
        "colors.remove(\"blue\")\n",
        "print(colors)\n"
      ],
      "metadata": {
        "colab": {
          "base_uri": "https://localhost:8080/"
        },
        "id": "VZnXVNJg3lX6",
        "outputId": "d70b551b-7bcc-47e8-cef1-7b25f2f9df7c"
      },
      "execution_count": 3,
      "outputs": [
        {
          "output_type": "stream",
          "name": "stdout",
          "text": [
            "['red', 'blue', 'green', 'yellow']\n",
            "['red', 'green', 'yellow']\n"
          ]
        }
      ]
    },
    {
      "cell_type": "markdown",
      "source": [
        "###Heterogeneous:\n",
        "Lists can contain elements of different data types, including integers, strings, floats, and even other lists."
      ],
      "metadata": {
        "id": "xL2X6_E73x-Y"
      }
    },
    {
      "cell_type": "code",
      "source": [
        "mixed_list = [1, \"hello\", 3.14, [10, 20, 30]]\n",
        "print(mixed_list[2])\n",
        "print(mixed_list[1])"
      ],
      "metadata": {
        "colab": {
          "base_uri": "https://localhost:8080/"
        },
        "id": "wSgLQ0BD4Asr",
        "outputId": "9d436092-38a4-4e68-ec6d-d88fecbbb73a"
      },
      "execution_count": 4,
      "outputs": [
        {
          "output_type": "stream",
          "name": "stdout",
          "text": [
            "3.14\n",
            "hello\n"
          ]
        }
      ]
    },
    {
      "cell_type": "markdown",
      "source": [
        "###Dynamic:\n",
        "Lists can grow and shrink in size dynamically. You can append new elements, remove existing ones, or concatenate lists."
      ],
      "metadata": {
        "id": "MFovfSc_4Wx9"
      }
    },
    {
      "cell_type": "code",
      "source": [
        "animals = [\"cat\", \"dog\"]\n",
        "animals.append(\"elephant\")\n",
        "print(animals)\n",
        "more_animals = [\"lion\", \"tiger\"]\n",
        "animals.extend(more_animals)\n",
        "print(animals)\n"
      ],
      "metadata": {
        "colab": {
          "base_uri": "https://localhost:8080/"
        },
        "id": "hHwC9Nuq4mx5",
        "outputId": "b18914a4-41e7-4b55-9d03-2729fce45244"
      },
      "execution_count": 5,
      "outputs": [
        {
          "output_type": "stream",
          "name": "stdout",
          "text": [
            "['cat', 'dog', 'elephant']\n",
            "['cat', 'dog', 'elephant', 'lion', 'tiger']\n"
          ]
        }
      ]
    },
    {
      "cell_type": "markdown",
      "source": [
        "###Iterable:\n",
        "You can loop through a list using a for-loop, allowing you to perform operations on each element."
      ],
      "metadata": {
        "id": "X80QVhNE44Lv"
      }
    },
    {
      "cell_type": "code",
      "source": [
        "numbers = [18, 25, 43, 64, 35]\n",
        "for number in numbers:\n",
        "    print(number)"
      ],
      "metadata": {
        "colab": {
          "base_uri": "https://localhost:8080/"
        },
        "id": "mrpEBUAp5Cha",
        "outputId": "71401e1a-ed81-4388-f21f-a2467c360b36"
      },
      "execution_count": 6,
      "outputs": [
        {
          "output_type": "stream",
          "name": "stdout",
          "text": [
            "18\n",
            "25\n",
            "43\n",
            "64\n",
            "35\n"
          ]
        }
      ]
    },
    {
      "cell_type": "markdown",
      "source": [
        "METHODS USED IN LISTS"
      ],
      "metadata": {
        "id": "zX66x7eK_mzB"
      }
    },
    {
      "cell_type": "code",
      "source": [
        "vehicles = [\"car\", \"cycle\", \"bike\"]\n",
        "\n",
        "vehicles.append(\"scooter\")\n",
        "print(\"After append:\", vehicles)\n",
        "\n",
        "vehicles.insert(1, \"train\")\n",
        "print(\"After insert:\", vehicles)\n",
        "\n",
        "vehicles.remove(\"bike\")\n",
        "print(\"After remove:\", vehicles)\n",
        "\n",
        "vehicles_copy = vehicles.copy()\n",
        "print(\"Shallow copy:\", vehicles_copy)\n",
        "\n",
        "vehicles_deep_copy = [item for item in vehicles]\n",
        "print(\"Deep copy:\", vehicles_deep_copy)\n",
        "\n",
        "count_car = vehicles.count(\"car\")\n",
        "print(\"Count of 'car':\", count_car)\n",
        "\n",
        "vehicles.extend([\"flight\", \"ship\"])\n",
        "print(\"After extend:\", vehicles)\n",
        "\n",
        "index_car = vehicles.index(\"car\")\n",
        "print(\"Index of 'car':\", index_car)\n",
        "\n",
        "vehicles.sort()\n",
        "print(\"After sort:\", vehicles)\n",
        "\n",
        "vehicles.reverse()\n",
        "print(\"After reverse:\", vehicles)\n",
        "\n",
        "vehicles.clear()\n",
        "print(\"After clear:\", vehicles)\n",
        "\n",
        "vehicles = [\"car\", \"bike\", \"cycle\"]\n",
        "popped_element = vehicles.pop(1)\n",
        "print(\"Popped element:\", popped_element)\n",
        "print(\"After pop:\", vehicles)\n",
        "\n",
        "popped_element_last = vehicles.pop()\n",
        "print(\"Popped last element:\", popped_element_last)\n",
        "print(\"After popping last element:\", vehicles)\n"
      ],
      "metadata": {
        "colab": {
          "base_uri": "https://localhost:8080/"
        },
        "id": "Tah9ikgi_uMC",
        "outputId": "f04576aa-22d2-4572-99d2-c231ce2e0665"
      },
      "execution_count": 7,
      "outputs": [
        {
          "output_type": "stream",
          "name": "stdout",
          "text": [
            "After append: ['car', 'cycle', 'bike', 'scooter']\n",
            "After insert: ['car', 'train', 'cycle', 'bike', 'scooter']\n",
            "After remove: ['car', 'train', 'cycle', 'scooter']\n",
            "Shallow copy: ['car', 'train', 'cycle', 'scooter']\n",
            "Deep copy: ['car', 'train', 'cycle', 'scooter']\n",
            "Count of 'car': 1\n",
            "After extend: ['car', 'train', 'cycle', 'scooter', 'flight', 'ship']\n",
            "Index of 'car': 0\n",
            "After sort: ['car', 'cycle', 'flight', 'scooter', 'ship', 'train']\n",
            "After reverse: ['train', 'ship', 'scooter', 'flight', 'cycle', 'car']\n",
            "After clear: []\n",
            "Popped element: bike\n",
            "After pop: ['car', 'cycle']\n",
            "Popped last element: cycle\n",
            "After popping last element: ['car']\n"
          ]
        }
      ]
    },
    {
      "cell_type": "markdown",
      "source": [
        "###List comprehension\n",
        "List comprehension in Python is a way to create lists. It allows you to generate a new list by applying an expression to each item in an existing iterable and can filter items based on a condition."
      ],
      "metadata": {
        "id": "DYhBiajxRHpM"
      }
    },
    {
      "cell_type": "code",
      "source": [
        "cubes = [x ** 3 for x in range(10)]\n",
        "print(\"List of cubes:\", cubes)\n",
        "\n",
        "odd_numbers = [x for x in range(20) if x % 2 != 0]\n",
        "print(\"Odd numbers:\", odd_numbers)\n",
        "\n",
        "words = [\"navya\", \"teja\", \"lpu\", \"punjab\"]\n",
        "replaced_words = [word.replace(\"punjab\", \"cse\") for word in words]\n",
        "print(\"Replaced words:\", replaced_words)\n",
        "\n",
        "number_cube_pairs = [(x, x ** 3) for x in range(10)]\n",
        "print(\"Number-Cube pairs:\", number_cube_pairs)\n",
        "\n",
        "nested_list = [[10, 20, 30], [40, 50, 60], [70, 80, 90]]\n",
        "flattened_list = [item for sublist in nested_list for item in sublist]\n",
        "print(\"Flattened list:\", flattened_list)\n",
        "\n",
        "names = [\"Ammu\", \"Teja\", \"Arjun\", \"Cherry\", \"Aradya\"]\n",
        "names_starting_with_A = [name for name in names if name.startswith('A')]\n",
        "print(\"Names starting with 'A':\", names_starting_with_A)"
      ],
      "metadata": {
        "colab": {
          "base_uri": "https://localhost:8080/"
        },
        "id": "676a-G8YRR-G",
        "outputId": "e4a3cbea-3baa-47d0-c8e0-3cf3198b9987"
      },
      "execution_count": 11,
      "outputs": [
        {
          "output_type": "stream",
          "name": "stdout",
          "text": [
            "List of cubes: [0, 1, 8, 27, 64, 125, 216, 343, 512, 729]\n",
            "Odd numbers: [1, 3, 5, 7, 9, 11, 13, 15, 17, 19]\n",
            "Replaced words: ['navya', 'teja', 'lpu', 'cse']\n",
            "Number-Cube pairs: [(0, 0), (1, 1), (2, 8), (3, 27), (4, 64), (5, 125), (6, 216), (7, 343), (8, 512), (9, 729)]\n",
            "Flattened list: [10, 20, 30, 40, 50, 60, 70, 80, 90]\n",
            "Names starting with 'A': ['Ammu', 'Arjun', 'Aradya']\n"
          ]
        }
      ]
    },
    {
      "cell_type": "markdown",
      "source": [
        "###Indexing\n",
        "#####Positive Indexing:\n",
        "Accessing elements from the start of the list. The first element has an index of 0, the second element has an index of 1, and so on.\n",
        "#####Negative Indexing:\n",
        "Accessing elements from the end of the list. The last element has an index of -1, the second-to-last element has an index of -2, and so on.\n",
        "#####Retrieve:\n",
        " Getting the value of an element at a specific index that we want\n",
        "#####Update:\n",
        "Changing the value of an element at a specific index."
      ],
      "metadata": {
        "id": "LL2aEJ1NV4cc"
      }
    },
    {
      "cell_type": "code",
      "source": [
        "names = [\"Navya\", \"teja\", \"divya\", \"ayan\", \"nisha\"]\n",
        "\n",
        "first_name = names[0]\n",
        "second_name = names[1]\n",
        "last_name = names[4]\n",
        "print(\"First name:\", first_name)\n",
        "print(\"Second name:\", second_name)\n",
        "print(\"Last name:\", last_name)\n",
        "\n",
        "second_last_name = names[-2]\n",
        "third_last_name = names[-3]\n",
        "print(\"Second last name:\", second_last_name)\n",
        "print(\"Third last name:\", third_last_name)\n",
        "\n",
        "middle_name = names[2]\n",
        "print(\"Middle name:\", middle_name)\n",
        "\n",
        "names[0] = \"ramani\"\n",
        "print(\"Updated names:\", names)\n"
      ],
      "metadata": {
        "colab": {
          "base_uri": "https://localhost:8080/"
        },
        "id": "lmeYzVtCWaEN",
        "outputId": "913f847a-b0a2-47ea-a3a1-95b4154e93fc"
      },
      "execution_count": 13,
      "outputs": [
        {
          "output_type": "stream",
          "name": "stdout",
          "text": [
            "First name: Navya\n",
            "Second name: teja\n",
            "Last name: nisha\n",
            "Second last name: ayan\n",
            "Third last name: divya\n",
            "Middle name: divya\n",
            "Updated names: ['ramani', 'teja', 'divya', 'ayan', 'nisha']\n"
          ]
        }
      ]
    },
    {
      "cell_type": "markdown",
      "source": [
        "###Slicing\n",
        "#####Positive Slicing:\n",
        "Selects a subset of elements starting from the specified index up to the specified end index.\n",
        "#####Negative Slicing:\n",
        "Selects elements from the list using negative index values, counting from the end of the list.\n",
        "#####Retrieve:\n",
        " Extracts a portion of the list.\n",
        "#####Update:\n",
        "Modifies elements within a slice of the list.\n",
        "#####Delete:\n",
        "Removes elements from a slice of the list.\n",
        "#####Insert:\n",
        "Adds elements into a specific position within the list.\n"
      ],
      "metadata": {
        "id": "Dlk7U_sLY0x7"
      }
    },
    {
      "cell_type": "code",
      "source": [
        "numbers = [10, 20, 30, 40, 50, 60, 70, 80, 90, 100]\n",
        "\n",
        "subset1 = numbers[2:7]\n",
        "print(\"Positive Slicing:\", subset1)\n",
        "\n",
        "subset2 = numbers[1:9:2]\n",
        "print(\"Positive Slicing with Step:\", subset2)\n",
        "\n",
        "subset3 = numbers[-3:]\n",
        "print(\"Negative Slicing:\", subset3)\n",
        "\n",
        "subset4 = numbers[-2:-6:-1]\n",
        "print(\"Negative Slicing with Reverse:\", subset4)\n",
        "\n",
        "middle_subset = numbers[3:8]\n",
        "print(\"Retrieve a Portion:\", middle_subset)\n",
        "\n",
        "numbers[1:3] = [25, 35]\n",
        "print(\"Update a Slice:\", numbers)\n",
        "\n",
        "del numbers[4:6]\n",
        "print(\"Delete a Slice:\", numbers)\n",
        "\n",
        "numbers[5:5] = [55, 65]\n",
        "print(\"Insert into a Specific Position:\", numbers)\n"
      ],
      "metadata": {
        "colab": {
          "base_uri": "https://localhost:8080/"
        },
        "id": "sg0ZqfZnZZJl",
        "outputId": "c8542bc7-f6d3-4178-b943-e3b55e354e88"
      },
      "execution_count": 14,
      "outputs": [
        {
          "output_type": "stream",
          "name": "stdout",
          "text": [
            "Positive Slicing: [30, 40, 50, 60, 70]\n",
            "Positive Slicing with Step: [20, 40, 60, 80]\n",
            "Negative Slicing: [80, 90, 100]\n",
            "Negative Slicing with Reverse: [90, 80, 70, 60]\n",
            "Retrieve a Portion: [40, 50, 60, 70, 80]\n",
            "Update a Slice: [10, 25, 35, 40, 50, 60, 70, 80, 90, 100]\n",
            "Delete a Slice: [10, 25, 35, 40, 70, 80, 90, 100]\n",
            "Insert into a Specific Position: [10, 25, 35, 40, 70, 55, 65, 80, 90, 100]\n"
          ]
        }
      ]
    },
    {
      "cell_type": "markdown",
      "source": [
        "####Searching and Sorting\n",
        "#####Searching:\n",
        "Involves looking for a specific element within a list. This process typically involves iterating through the list sequentially until the desired element is found.\n",
        "#####Sorting:\n",
        "Arranging the elements of a list in a specific order, such as numerical or alphabetical order. Python provides built-in functions and methods to sort lists, making it easy to organize data."
      ],
      "metadata": {
        "id": "rGjnc9ixaAWf"
      }
    },
    {
      "cell_type": "code",
      "source": [
        "numbers = [5, 2, 8, 3, 10, 1, 7, 4, 6, 9]\n",
        "\n",
        "has_seven = 7 in numbers\n",
        "print(\"Is '7' in the list?\", has_seven)\n",
        "\n",
        "index_of_ten = numbers.index(10)\n",
        "print(\"Index of '10':\", index_of_ten)\n",
        "\n",
        "number_to_find = 4\n",
        "found_number = None\n",
        "for num in numbers:\n",
        "    if num == number_to_find:\n",
        "        found_number = num\n",
        "        break\n",
        "print(\"Found number:\", found_number)\n",
        "\n",
        "sorted_numbers = sorted(numbers)\n",
        "print(\"Sorted numbers:\", sorted_numbers)\n",
        "\n",
        "reverse_sorted_numbers = sorted(numbers, reverse=True)\n",
        "print(\"Reverse sorted numbers:\", reverse_sorted_numbers)\n",
        "\n",
        "numbers.sort()\n",
        "print(\"Sorted numbers in place:\", numbers)\n"
      ],
      "metadata": {
        "colab": {
          "base_uri": "https://localhost:8080/"
        },
        "id": "mIsHp1aiaMyO",
        "outputId": "670fd6e0-fa83-426c-eca9-9286a475986c"
      },
      "execution_count": 15,
      "outputs": [
        {
          "output_type": "stream",
          "name": "stdout",
          "text": [
            "Is '7' in the list? True\n",
            "Index of '10': 4\n",
            "Found number: 4\n",
            "Sorted numbers: [1, 2, 3, 4, 5, 6, 7, 8, 9, 10]\n",
            "Reverse sorted numbers: [10, 9, 8, 7, 6, 5, 4, 3, 2, 1]\n",
            "Sorted numbers in place: [1, 2, 3, 4, 5, 6, 7, 8, 9, 10]\n"
          ]
        }
      ]
    },
    {
      "cell_type": "markdown",
      "source": [
        "####Special Methods\n",
        "#####Reduce:\n",
        "reduce() applies a function cumulatively to the items of an iterable, reducing them to a single value.\n",
        "#####Map:\n",
        "map() applies a function to each item in an iterable and returns an iterator yielding the results.\n",
        "#####filter:\n",
        "filter() constructs an iterator from elements of an iterable for which a function returns True.\n",
        "#####Zip:\n",
        "zip() aggregates elements from each of the iterables into tuples, creating an iterator of tuples."
      ],
      "metadata": {
        "id": "atPiMOtOapQE"
      }
    },
    {
      "cell_type": "code",
      "source": [
        "numbers = [5, 2, 8, 3, 10, 1, 7, 4, 6, 9]\n",
        "\n",
        "has_seven = 7 in numbers\n",
        "print(\"Is '7' in the list?\", has_seven)\n",
        "\n",
        "index_of_ten = numbers.index(10)\n",
        "print(\"Index of '10':\", index_of_ten)\n",
        "\n",
        "number_to_find = 4\n",
        "found_number = None\n",
        "for num in numbers:\n",
        "    if num == number_to_find:\n",
        "        found_number = num\n",
        "        break\n",
        "print(\"Found number:\", found_number)\n",
        "\n",
        "sorted_numbers = sorted(numbers)\n",
        "print(\"Sorted numbers:\", sorted_numbers)\n",
        "\n",
        "reverse_sorted_numbers = sorted(numbers, reverse=True)\n",
        "print(\"Reverse sorted numbers:\", reverse_sorted_numbers)\n",
        "\n",
        "numbers.sort()\n",
        "print(\"Sorted numbers in place:\", numbers)\n"
      ],
      "metadata": {
        "colab": {
          "base_uri": "https://localhost:8080/"
        },
        "id": "fAjpB96ObGRH",
        "outputId": "0b67e7a0-6098-4211-b55c-61f9f3dfdcd4"
      },
      "execution_count": 16,
      "outputs": [
        {
          "output_type": "stream",
          "name": "stdout",
          "text": [
            "Is '7' in the list? True\n",
            "Index of '10': 4\n",
            "Found number: 4\n",
            "Sorted numbers: [1, 2, 3, 4, 5, 6, 7, 8, 9, 10]\n",
            "Reverse sorted numbers: [10, 9, 8, 7, 6, 5, 4, 3, 2, 1]\n",
            "Sorted numbers in place: [1, 2, 3, 4, 5, 6, 7, 8, 9, 10]\n"
          ]
        }
      ]
    }
  ]
}
{
  "nbformat": 4,
  "nbformat_minor": 0,
  "metadata": {
    "colab": {
      "provenance": [],
      "authorship_tag": "ABX9TyMAfytf7lp1zL+t2jthmnL+",
      "include_colab_link": true
    },
    "kernelspec": {
      "name": "python3",
      "display_name": "Python 3"
    },
    "language_info": {
      "name": "python"
    }
  },
  "cells": [
    {
      "cell_type": "markdown",
      "metadata": {
        "id": "view-in-github",
        "colab_type": "text"
      },
      "source": [
        "<a href=\"https://colab.research.google.com/github/navyagona/python-practice/blob/main/Untitled5.ipynb\" target=\"_parent\"><img src=\"https://colab.research.google.com/assets/colab-badge.svg\" alt=\"Open In Colab\"/></a>"
      ]
    },
    {
      "cell_type": "markdown",
      "source": [
        "###Dictionary\n",
        "dictionary in Python as a real-life dictionary where you look up words to find their meanings. It's like having a table where you can quickly find information based on a unique identifier."
      ],
      "metadata": {
        "id": "gk66PPPeqUbD"
      }
    },
    {
      "cell_type": "code",
      "execution_count": 3,
      "metadata": {
        "colab": {
          "base_uri": "https://localhost:8080/"
        },
        "id": "M47PWwIHqTbJ",
        "outputId": "375aee95-096a-43e4-f904-985105948729"
      },
      "outputs": [
        {
          "output_type": "stream",
          "name": "stdout",
          "text": [
            "Grade of student with name navya: A\n",
            "Grade of student with name teja: B\n",
            "Updated grade of student with name teja: A\n"
          ]
        }
      ],
      "source": [
        "student_grades = {\n",
        "    'navya': 'A',\n",
        "    'teja': 'B',\n",
        "    'nisha': 'C',\n",
        "}\n",
        "\n",
        "print(\"Grade of student with name navya:\", student_grades['navya'])\n",
        "print(\"Grade of student with name teja:\", student_grades.get('teja'))\n",
        "\n",
        "student_grades['teja'] = 'A'\n",
        "print(\"Updated grade of student with name teja:\", student_grades['teja'])\n"
      ]
    },
    {
      "cell_type": "markdown",
      "source": [
        "Dictionaries can represent complex data structures like objects or records in a database. They allow nesting of data, providing a structured way to organize information."
      ],
      "metadata": {
        "id": "g45Paw35rjk2"
      }
    },
    {
      "cell_type": "code",
      "source": [
        "person = {\n",
        "    'name': 'NAVYA',\n",
        "    'age': 19,\n",
        "    'city': 'ELURU'\n",
        "}\n",
        "\n",
        "print(\"Name:\", person['name'])\n",
        "print(\"Age:\", person['age'])\n"
      ],
      "metadata": {
        "colab": {
          "base_uri": "https://localhost:8080/"
        },
        "id": "J2ONYYD1swgg",
        "outputId": "15f13870-2b71-4dd8-ef1c-a43ebb75b1db"
      },
      "execution_count": 4,
      "outputs": [
        {
          "output_type": "stream",
          "name": "stdout",
          "text": [
            "Name: NAVYA\n",
            "Age: 19\n"
          ]
        }
      ]
    },
    {
      "cell_type": "markdown",
      "source": [
        "Configuration Files:\n",
        "Configuration settings for applications can be stored in dictionaries, making it easy to access and modify various parameters."
      ],
      "metadata": {
        "id": "ELs_ACNis-_M"
      }
    },
    {
      "cell_type": "code",
      "source": [
        "game_config = {\n",
        "    'difficulty': 'hard',\n",
        "    'sound': True,\n",
        "    'controls': {\n",
        "        'movement': 'arrow keys',\n",
        "        'action': 'spacebar'\n",
        "    }\n",
        "}\n",
        "\n",
        "difficulty_level = game_config['difficulty']\n",
        "sound_enabled = game_config['sound']\n",
        "movement_controls = game_config['controls']['movement']\n",
        "\n",
        "print(\"Difficulty Level:\", difficulty_level)\n",
        "print(\"Sound Enabled:\", sound_enabled)\n",
        "print(\"Movement Controls:\", movement_controls)\n"
      ],
      "metadata": {
        "colab": {
          "base_uri": "https://localhost:8080/"
        },
        "id": "FrJd7ZHjvQug",
        "outputId": "aeff5c7f-60b7-4c41-ef9a-935e2252e4de"
      },
      "execution_count": 5,
      "outputs": [
        {
          "output_type": "stream",
          "name": "stdout",
          "text": [
            "Difficulty Level: hard\n",
            "Sound Enabled: True\n",
            "Movement Controls: arrow keys\n"
          ]
        }
      ]
    },
    {
      "cell_type": "markdown",
      "source": [
        "Counting Occurrences:\n",
        "Dictionaries are useful for counting the occurrences of elements in a collection, such as words in a sentence."
      ],
      "metadata": {
        "id": "zBU4myhG9PVk"
      }
    },
    {
      "cell_type": "code",
      "source": [
        "text = \"hello world\"\n",
        "char_counts = {}\n",
        "\n",
        "for char in text:\n",
        "    if char in char_counts:\n",
        "        char_counts[char] += 1\n",
        "    else:\n",
        "        char_counts[char] = 1\n",
        "\n",
        "print(char_counts)"
      ],
      "metadata": {
        "colab": {
          "base_uri": "https://localhost:8080/"
        },
        "id": "YoTQuz789Ty_",
        "outputId": "6f6a809d-829b-4014-fe24-bfd93f9157eb"
      },
      "execution_count": 6,
      "outputs": [
        {
          "output_type": "stream",
          "name": "stdout",
          "text": [
            "{'h': 1, 'e': 1, 'l': 3, 'o': 2, ' ': 1, 'w': 1, 'r': 1, 'd': 1}\n"
          ]
        }
      ]
    },
    {
      "cell_type": "markdown",
      "source": [
        "Data Processing:\n",
        "Dictionaries are valuable for data manipulation, filtering, and analysis tasks, such as filtering data based on conditions or grouping data."
      ],
      "metadata": {
        "id": "0GrHIpSi-0jp"
      }
    },
    {
      "cell_type": "code",
      "source": [
        "products = [\n",
        "    {'name': 'Laptop', 'sales': 150, 'category': 'Electronics'},\n",
        "    {'name': 'Shoes', 'sales': 45, 'category': 'styling'},\n",
        "    {'name': 'Smartphone', 'sales': 200, 'category': 'Electronics'},\n",
        "    {'name': 'T-shirt', 'sales': 75, 'category': 'styling'}\n",
        "]\n",
        "\n",
        "high_sales_products = [product for product in products if product['sales'] > 50]\n",
        "print(\"Products with sales more than 50:\", high_sales_products)\n",
        "\n",
        "products_by_category = {}\n",
        "for product in products:\n",
        "    category = product['category']\n",
        "    if category in products_by_category:\n",
        "        products_by_category[category].append(product)\n",
        "    else:\n",
        "        products_by_category[category] = [product]\n",
        "\n",
        "print(\"Products grouped by category:\", products_by_category)\n"
      ],
      "metadata": {
        "colab": {
          "base_uri": "https://localhost:8080/"
        },
        "id": "x2Lf_TDs-6se",
        "outputId": "4582da82-ca95-44a6-a865-efc2f3c0c25f"
      },
      "execution_count": 7,
      "outputs": [
        {
          "output_type": "stream",
          "name": "stdout",
          "text": [
            "Products with sales more than 50: [{'name': 'Laptop', 'sales': 150, 'category': 'Electronics'}, {'name': 'Smartphone', 'sales': 200, 'category': 'Electronics'}, {'name': 'T-shirt', 'sales': 75, 'category': 'styling'}]\n",
            "Products grouped by category: {'Electronics': [{'name': 'Laptop', 'sales': 150, 'category': 'Electronics'}, {'name': 'Smartphone', 'sales': 200, 'category': 'Electronics'}], 'styling': [{'name': 'Shoes', 'sales': 45, 'category': 'styling'}, {'name': 'T-shirt', 'sales': 75, 'category': 'styling'}]}\n"
          ]
        }
      ]
    },
    {
      "cell_type": "markdown",
      "source": [
        "keys():\n",
        "Returns a view object containing the dictionary's keys."
      ],
      "metadata": {
        "id": "QG6ADM8JDz3a"
      }
    },
    {
      "cell_type": "code",
      "source": [
        "student = {\n",
        "    'name': 'Navya',\n",
        "    'grade': 'A',\n",
        "    'subject': 'Math'\n",
        "}\n",
        "\n",
        "keys = student.keys()\n",
        "print(keys)\n"
      ],
      "metadata": {
        "colab": {
          "base_uri": "https://localhost:8080/"
        },
        "id": "AOsOVYVoD1jk",
        "outputId": "8b5af285-cd73-47eb-af12-dd32fdf1ec59"
      },
      "execution_count": 8,
      "outputs": [
        {
          "output_type": "stream",
          "name": "stdout",
          "text": [
            "dict_keys(['name', 'grade', 'subject'])\n"
          ]
        }
      ]
    },
    {
      "cell_type": "markdown",
      "source": [
        "values():\n",
        "Returns a view object containing the dictionary's values."
      ],
      "metadata": {
        "id": "yKfvnFUTD8ZP"
      }
    },
    {
      "cell_type": "code",
      "source": [
        "student = {\n",
        "    'name': 'teja',\n",
        "    'grade': 'A',\n",
        "    'subject': 'science'\n",
        "}\n",
        "\n",
        "values = student.values()\n",
        "print(values)\n"
      ],
      "metadata": {
        "colab": {
          "base_uri": "https://localhost:8080/"
        },
        "id": "rpTi8p4wEDbd",
        "outputId": "39f09125-05f8-4088-cb51-ca40371c9785"
      },
      "execution_count": 9,
      "outputs": [
        {
          "output_type": "stream",
          "name": "stdout",
          "text": [
            "dict_values(['teja', 'A', 'science'])\n"
          ]
        }
      ]
    },
    {
      "cell_type": "markdown",
      "source": [
        "items():\n",
        "Returns a view object that displays a list of all the key-value pairs in the dictionary."
      ],
      "metadata": {
        "id": "DRdX-r-rEK5y"
      }
    },
    {
      "cell_type": "code",
      "source": [
        "student = {\n",
        "    'name': 'ramani',\n",
        "    'grade': 'A',\n",
        "    'subject': 'sql'\n",
        "}\n",
        "\n",
        "items = student.items()\n",
        "print(items)\n"
      ],
      "metadata": {
        "colab": {
          "base_uri": "https://localhost:8080/"
        },
        "id": "QtQUOnDcEPGY",
        "outputId": "227ca852-ffcd-4d8b-95b2-9d53e309e75c"
      },
      "execution_count": 10,
      "outputs": [
        {
          "output_type": "stream",
          "name": "stdout",
          "text": [
            "dict_items([('name', 'ramani'), ('grade', 'A'), ('subject', 'sql')])\n"
          ]
        }
      ]
    },
    {
      "cell_type": "markdown",
      "source": [
        "get:\n",
        "Returns the value for the specified key if the key is in the dictionary. If the key is not found, it returns the default value provided as the second argument."
      ],
      "metadata": {
        "id": "NzwLf8xOEXGP"
      }
    },
    {
      "cell_type": "code",
      "source": [
        "student = {\n",
        "    'name': 'teja',\n",
        "    'grade': 'B',\n",
        "    'subject': 'Math'\n",
        "}\n",
        "\n",
        "print(student.get('name'))\n",
        "print(student.get('age', 'Not specified'))\n"
      ],
      "metadata": {
        "colab": {
          "base_uri": "https://localhost:8080/"
        },
        "id": "XP-0tZC-Ee_D",
        "outputId": "3aeb7bed-d552-4072-d6cb-e53f63419dc7"
      },
      "execution_count": 11,
      "outputs": [
        {
          "output_type": "stream",
          "name": "stdout",
          "text": [
            "teja\n",
            "Not specified\n"
          ]
        }
      ]
    },
    {
      "cell_type": "markdown",
      "source": [
        "pop:\n",
        "Removes the key-value pair from the dictionary and returns the value. If the key is not found, it returns the default value provided as the second argument."
      ],
      "metadata": {
        "id": "oyZVNi6EEr7U"
      }
    },
    {
      "cell_type": "code",
      "source": [
        "vehicles = {'cars': 10, 'bikes': 5, 'cycles': 8}\n",
        "removed_value = vehicles.pop('bikes')\n",
        "print(removed_value)\n",
        "print(vehicles)\n"
      ],
      "metadata": {
        "colab": {
          "base_uri": "https://localhost:8080/"
        },
        "id": "aNoozw2xEzB2",
        "outputId": "1166a9eb-9bd5-4329-b47d-8cf0abd54a20"
      },
      "execution_count": 12,
      "outputs": [
        {
          "output_type": "stream",
          "name": "stdout",
          "text": [
            "5\n",
            "{'cars': 10, 'cycles': 8}\n"
          ]
        }
      ]
    },
    {
      "cell_type": "markdown",
      "source": [
        "clear():\n",
        "Removes all the key-value pairs from the dictionary."
      ],
      "metadata": {
        "id": "6kA0MFTHFFxN"
      }
    },
    {
      "cell_type": "code",
      "source": [
        "vehicles = {'cars': 10, 'bikes': 5, 'cycles': 8}\n",
        "vehicles.clear()\n",
        "print(vehicles)"
      ],
      "metadata": {
        "colab": {
          "base_uri": "https://localhost:8080/"
        },
        "id": "TyTA5soBFJ1N",
        "outputId": "5d180636-ff6a-4fda-d915-22345c7f03ed"
      },
      "execution_count": 13,
      "outputs": [
        {
          "output_type": "stream",
          "name": "stdout",
          "text": [
            "{}\n"
          ]
        }
      ]
    },
    {
      "cell_type": "markdown",
      "source": [
        "copy():\n",
        "Returns a shallow copy of the dictionary."
      ],
      "metadata": {
        "id": "59UCxCpBFWto"
      }
    },
    {
      "cell_type": "code",
      "source": [
        "vehicles = {'cars': 10, 'bikes': 5, 'cycles': 8}\n",
        "new_vehicles = vehicles.copy()\n",
        "print(new_vehicles)"
      ],
      "metadata": {
        "colab": {
          "base_uri": "https://localhost:8080/"
        },
        "id": "6FOrsdy0FcWQ",
        "outputId": "0c1359dd-fa50-41cd-f6df-05dcf185dd66"
      },
      "execution_count": 14,
      "outputs": [
        {
          "output_type": "stream",
          "name": "stdout",
          "text": [
            "{'cars': 10, 'bikes': 5, 'cycles': 8}\n"
          ]
        }
      ]
    },
    {
      "cell_type": "markdown",
      "source": [
        "####Dictionary Comprehension"
      ],
      "metadata": {
        "id": "RqB73sgaFslz"
      }
    },
    {
      "cell_type": "code",
      "source": [
        "# creating dictionary from list\n",
        "names = [\"navya\", \"teja\", \"ramani\"]\n",
        "\n",
        "name_lengths = {name: len(name) for name in names}\n",
        "print(name_lengths)\n",
        "\n",
        "\n",
        "\n",
        "# Creating a dictionary from another dictionary\n",
        "original = {'x': 10, 'y': 20, 'z': 30}\n",
        "\n",
        "halved_values = {key: value / 2 for key, value in original.items()}\n",
        "print(halved_values)\n",
        "\n",
        "\n",
        "# Creating a dictionary with conditional logic\n",
        "numbers = [1, 2, 3, 4, 5, 6, 7, 8, 9, 10]\n",
        "\n",
        "greater_than_five_negatives = {num: -num for num in numbers if num > 5}\n",
        "print(greater_than_five_negatives)\n",
        "\n",
        "\n",
        "#Creating a dictionary from two lists\n",
        "countries = ['INDIA', 'NEPAL', 'Mexico']\n",
        "\n",
        "capitals = ['DELHI', 'KATHMANDU', 'Mexico City']\n",
        "\n",
        "country_capital = {country: capital for country, capital in zip(countries, capitals)}\n",
        "print(country_capital)\n",
        "\n",
        "\n",
        "#  Creating a dictionary from a range\n",
        "import math\n",
        "factorials = {num: math.factorial(num) for num in range(1, 6)}\n",
        "print(factorials)\n",
        "\n",
        "\n",
        "# Filtering and transforming dictionary\n",
        "grades = {'NAVYA': 85, 'TEJA': 75, 'RAMANI': 95, 'DIVYA': 65}\n",
        "\n",
        "passing_grades = {name: grade + 5 for name, grade in grades.items() if grade >= 70}\n",
        "print(passing_grades)\n"
      ],
      "metadata": {
        "colab": {
          "base_uri": "https://localhost:8080/"
        },
        "id": "ih8YndifGwXM",
        "outputId": "bf03bcc0-3dcc-4bd8-db42-387c7862d6bb"
      },
      "execution_count": 16,
      "outputs": [
        {
          "output_type": "stream",
          "name": "stdout",
          "text": [
            "{'navya': 5, 'teja': 4, 'ramani': 6}\n",
            "{'x': 5.0, 'y': 10.0, 'z': 15.0}\n",
            "{6: -6, 7: -7, 8: -8, 9: -9, 10: -10}\n",
            "{'INDIA': 'DELHI', 'NEPAL': 'KATHMANDU', 'Mexico': 'Mexico City'}\n",
            "{1: 1, 2: 2, 3: 6, 4: 24, 5: 120}\n",
            "{'NAVYA': 90, 'TEJA': 80, 'RAMANI': 100}\n"
          ]
        }
      ]
    },
    {
      "cell_type": "markdown",
      "source": [
        "\n",
        "####Nested dictionary:\n"
      ],
      "metadata": {
        "id": "Bcc1QhxuJUwN"
      }
    },
    {
      "cell_type": "code",
      "source": [
        "students = {\n",
        "    'NAVYA': {\n",
        "        'age': 19,\n",
        "        'major': 'Computer Science',\n",
        "        'GPA': 7.9\n",
        "    },\n",
        "    'TEJA': {\n",
        "        'age': 18,\n",
        "        'major': 'Engineering',\n",
        "        'GPA': 7.5\n",
        "    },\n",
        "    'RAMANI': {\n",
        "        'age': 19,\n",
        "        'major': 'Biology',\n",
        "        'GPA': 6.5\n",
        "    }\n",
        "}\n",
        "\n",
        "print(\"TEJA's age:\", students['TEJA']['age'])\n",
        "print(\"NAVYA's major:\", students['NAVYA']['major'])\n",
        "print(\"RAMANI's GPA:\", students['RAMANI']['GPA'])\n"
      ],
      "metadata": {
        "colab": {
          "base_uri": "https://localhost:8080/"
        },
        "id": "f21JSGSFJYa0",
        "outputId": "2031f87d-7c47-41db-b542-53d4895ce352"
      },
      "execution_count": 17,
      "outputs": [
        {
          "output_type": "stream",
          "name": "stdout",
          "text": [
            "TEJA's age: 18\n",
            "NAVYA's major: Computer Science\n",
            "RAMANI's GPA: 6.5\n"
          ]
        }
      ]
    },
    {
      "cell_type": "markdown",
      "source": [
        "####use-cases and real world experiences"
      ],
      "metadata": {
        "id": "w_N6s-J4J6z3"
      }
    },
    {
      "cell_type": "code",
      "source": [
        "#counting occurences\n",
        "numbers = [1, 2, 3, 4, 5, 1, 2, 3, 4, 5, 1, 2, 3]\n",
        "\n",
        "number_counts = {}\n",
        "for num in numbers:\n",
        "    if num in number_counts:\n",
        "        number_counts[num] += 1\n",
        "    else:\n",
        "        number_counts[num] = 1\n",
        "print(number_counts)"
      ],
      "metadata": {
        "colab": {
          "base_uri": "https://localhost:8080/"
        },
        "id": "lqiyQe7QKlUQ",
        "outputId": "54dfbf97-5a05-47bb-9100-c5d310c8b66a"
      },
      "execution_count": 18,
      "outputs": [
        {
          "output_type": "stream",
          "name": "stdout",
          "text": [
            "{1: 3, 2: 3, 3: 3, 4: 2, 5: 2}\n"
          ]
        }
      ]
    },
    {
      "cell_type": "code",
      "source": [
        "# data manipulation and filtering\n",
        "data = [\n",
        "    {'name': 'NAVYA', 'age': 19, 'city': 'VIZAG'},\n",
        "    {'name': 'TEJA', 'age': 18, 'city': 'HYDERABAD'},\n",
        "    {'name': 'RAMANI', 'age': 19, 'city': 'BANGLORE'}\n",
        "]\n",
        "\n",
        "filtered_data = [person for person in data if person['city'] == 'BANGLORE']\n",
        "print(filtered_data)\n"
      ],
      "metadata": {
        "colab": {
          "base_uri": "https://localhost:8080/"
        },
        "id": "H2299J6-K7M2",
        "outputId": "8ff05f3d-e9ab-4168-94e6-dd6b04cb30ce"
      },
      "execution_count": 19,
      "outputs": [
        {
          "output_type": "stream",
          "name": "stdout",
          "text": [
            "[{'name': 'RAMANI', 'age': 19, 'city': 'BANGLORE'}]\n"
          ]
        }
      ]
    },
    {
      "cell_type": "code",
      "source": [
        "#data manipulation\n",
        "fruits = [\n",
        "    {\"name\": \"Apple\", \"color\": \"Red\", \"type\": \"Fruit\"},\n",
        "    {\"name\": \"Banana\", \"color\": \"Yellow\", \"type\": \"Fruit\"},\n",
        "    {\"name\": \"Carrot\", \"color\": \"Orange\", \"type\": \"Vegetable\"},\n",
        "    {\"name\": \"Mango\", \"color\": \"Yellow\", \"type\": \"Fruit\"}\n",
        "]\n",
        "grouped_data = {}\n",
        "for fruit in fruits:\n",
        "    color = fruit[\"color\"]\n",
        "    if color in grouped_data:\n",
        "        grouped_data[color].append(fruit)\n",
        "    else:\n",
        "        grouped_data[color] = [fruit]\n",
        "\n",
        "print(grouped_data)\n"
      ],
      "metadata": {
        "colab": {
          "base_uri": "https://localhost:8080/"
        },
        "id": "XEKSOhXZLgrx",
        "outputId": "2fd18042-e86a-48f2-ce52-471e3b5f5923"
      },
      "execution_count": 20,
      "outputs": [
        {
          "output_type": "stream",
          "name": "stdout",
          "text": [
            "{'Red': [{'name': 'Apple', 'color': 'Red', 'type': 'Fruit'}], 'Yellow': [{'name': 'Banana', 'color': 'Yellow', 'type': 'Fruit'}, {'name': 'Mango', 'color': 'Yellow', 'type': 'Fruit'}], 'Orange': [{'name': 'Carrot', 'color': 'Orange', 'type': 'Vegetable'}]}\n"
          ]
        }
      ]
    },
    {
      "cell_type": "code",
      "source": [
        "# data filtering\n",
        "students = [\n",
        "    {\"name\": \"NAVYA\", \"grade\": 85},\n",
        "    {\"name\": \"TEJA\", \"grade\": 70},\n",
        "    {\"name\": \"RAMANI\", \"grade\": 90},\n",
        "    {\"name\": \"DIVYA\", \"grade\": 65}\n",
        "]\n",
        "passing_students = [student for student in students if student[\"grade\"] > 70]\n",
        "\n",
        "print(passing_students)\n"
      ],
      "metadata": {
        "colab": {
          "base_uri": "https://localhost:8080/"
        },
        "id": "m_ldi_FJMRb5",
        "outputId": "198544f1-b15b-4941-bd49-1c54cf1039b3"
      },
      "execution_count": 21,
      "outputs": [
        {
          "output_type": "stream",
          "name": "stdout",
          "text": [
            "[{'name': 'NAVYA', 'grade': 85}, {'name': 'RAMANI', 'grade': 90}]\n"
          ]
        }
      ]
    },
    {
      "cell_type": "code",
      "source": [
        "# data analysis\n",
        "employees = [\n",
        "    {\"name\": \"NAVYA\", \"salary\": 60000, \"city\": \"VIZAG\"},\n",
        "    {\"name\": \"TEJA\", \"salary\": 70000, \"city\": \"BANGLORE\"},\n",
        "    {\"name\": \"RAMANI\", \"salary\": 80000, \"city\": \"VIZAG\"},\n",
        "    {\"name\": \"DIVYA\", \"salary\": 75000, \"city\": \"HYDERABAD\"}\n",
        "]\n",
        "\n",
        "city_salaries = {}\n",
        "for employee in employees:\n",
        "    city = employee[\"city\"]\n",
        "    salary = employee[\"salary\"]\n",
        "    if city in city_salaries:\n",
        "        city_salaries[city].append(salary)\n",
        "    else:\n",
        "        city_salaries[city] = [salary]\n",
        "\n",
        "average_salaries = {city: sum(salaries) / len(salaries) for city, salaries in city_salaries.items()}\n",
        "\n",
        "print(average_salaries)\n"
      ],
      "metadata": {
        "colab": {
          "base_uri": "https://localhost:8080/"
        },
        "id": "d0lAzeltMge4",
        "outputId": "f0616702-e8c0-482e-be7d-22b017e33729"
      },
      "execution_count": 22,
      "outputs": [
        {
          "output_type": "stream",
          "name": "stdout",
          "text": [
            "{'VIZAG': 70000.0, 'BANGLORE': 70000.0, 'HYDERABAD': 75000.0}\n"
          ]
        }
      ]
    },
    {
      "cell_type": "code",
      "source": [
        "# Storing unique elements\n",
        "unique_words = set([\"apple\", \"banana\", \"apple\", \"orange\", \"banana\", \"pear\"])\n",
        "print(unique_words)\n",
        "# Checking membership efficiently\n",
        "elements = set([1, 2, 3, 4, 5])\n",
        "print(3 in elements)\n",
        "print(6 in elements)\n",
        "# Removing duplicate elements from a list of strings\n",
        "duplicate_list = [\"apple\", \"banana\", \"apple\", \"orange\", \"banana\", \"pear\"]\n",
        "unique_list = list(set(duplicate_list))\n",
        "print(unique_list)\n",
        "\n"
      ],
      "metadata": {
        "colab": {
          "base_uri": "https://localhost:8080/"
        },
        "id": "D8j6iJCkNbon",
        "outputId": "eb881596-07bc-48bc-a7d4-61ba7a62dfcc"
      },
      "execution_count": 23,
      "outputs": [
        {
          "output_type": "stream",
          "name": "stdout",
          "text": [
            "{'apple', 'orange', 'banana', 'pear'}\n",
            "True\n",
            "False\n",
            "['apple', 'orange', 'banana', 'pear']\n"
          ]
        }
      ]
    }
  ]
}
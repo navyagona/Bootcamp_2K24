{
  "nbformat": 4,
  "nbformat_minor": 0,
  "metadata": {
    "colab": {
      "provenance": [],
      "authorship_tag": "ABX9TyNByuwMrrbkwO8rYO7aMzSh",
      "include_colab_link": true
    },
    "kernelspec": {
      "name": "python3",
      "display_name": "Python 3"
    },
    "language_info": {
      "name": "python"
    }
  },
  "cells": [
    {
      "cell_type": "markdown",
      "metadata": {
        "id": "view-in-github",
        "colab_type": "text"
      },
      "source": [
        "<a href=\"https://colab.research.google.com/github/navyagona/python-practice/blob/main/Untitled4.ipynb\" target=\"_parent\"><img src=\"https://colab.research.google.com/assets/colab-badge.svg\" alt=\"Open In Colab\"/></a>"
      ]
    },
    {
      "cell_type": "markdown",
      "source": [
        "###TUPLE\n",
        "A tuple is a collection of ordered and immutable elements, written with round brackets ().tuples allow duplicates.\n",
        "\n"
      ],
      "metadata": {
        "id": "3MhHI4zndHlc"
      }
    },
    {
      "cell_type": "code",
      "execution_count": 2,
      "metadata": {
        "colab": {
          "base_uri": "https://localhost:8080/"
        },
        "id": "M5CAPBo0dGL4",
        "outputId": "4fef4714-826f-492b-8007-8b06c82a8486"
      },
      "outputs": [
        {
          "output_type": "stream",
          "name": "stdout",
          "text": [
            "('vizag', 'banglore', 'hyderabad')\n",
            "('navya', 'teja', 'charan', 'ramani', 'teja')\n",
            "3\n"
          ]
        }
      ],
      "source": [
        "cities = (\"vizag\", \"banglore\", \"hyderabad\")\n",
        "print(cities)\n",
        "x= (\"navya\", \"teja\", \"charan\", \"ramani\", \"teja\")\n",
        "print(x)\n",
        "#Tuple Length:\n",
        "thistuple = tuple((\"teja\", \"navya\", \"ramani\"))\n",
        "print(len(thistuple))"
      ]
    },
    {
      "cell_type": "markdown",
      "source": [
        "tuples also store different data types"
      ],
      "metadata": {
        "id": "USwuVmRQeBWK"
      }
    },
    {
      "cell_type": "code",
      "source": [
        "example = (\"teja\", 48, 26, \"navya\")\n",
        "print(example)"
      ],
      "metadata": {
        "colab": {
          "base_uri": "https://localhost:8080/"
        },
        "id": "lDpRb_VmeILM",
        "outputId": "755622ab-961b-419d-81a4-e88019e101e3"
      },
      "execution_count": 4,
      "outputs": [
        {
          "output_type": "stream",
          "name": "stdout",
          "text": [
            "('teja', 48, 26, 'navya')\n"
          ]
        }
      ]
    },
    {
      "cell_type": "code",
      "source": [
        "vehicles = tuple((\"car\", \"bus\", \"bike\"))\n",
        "print(\"Tuple using constructor:\", vehicles)\n",
        "print(\"Second item in tuple:\", vehicles[1])\n",
        "\n",
        "vehicle1 = (\"car\", \"bus\", \"bike\", \"truck\", \"motorcycle\", \"van\", \"scooter\")\n",
        "print(\"Items from index 2 to 4:\", vehicle1[2:5])\n",
        "\n",
        "vehicle2 = (\"car\", \"bus\", \"bike\", \"truck\", \"motorcycle\", \"van\", \"scooter\")\n",
        "print(\"Items up to 'truck':\", vehicle2[:4])\n",
        "\n",
        "vehicle3 = (\"car\", \"bus\", \"bike\", \"truck\", \"motorcycle\", \"van\", \"scooter\")\n",
        "print(\"Items from index -4 to -1:\", vehicle3[-4:-1])\n"
      ],
      "metadata": {
        "colab": {
          "base_uri": "https://localhost:8080/"
        },
        "id": "LyW7WdRCfEgQ",
        "outputId": "3bb16c08-7706-4843-b925-dffa0959472d"
      },
      "execution_count": 6,
      "outputs": [
        {
          "output_type": "stream",
          "name": "stdout",
          "text": [
            "Tuple using constructor: ('car', 'bus', 'bike')\n",
            "Second item in tuple: bus\n",
            "Items from index 2 to 4: ('bike', 'truck', 'motorcycle')\n",
            "Items up to 'truck': ('car', 'bus', 'bike', 'truck')\n",
            "Items from index -4 to -1: ('truck', 'motorcycle', 'van')\n"
          ]
        }
      ]
    },
    {
      "cell_type": "markdown",
      "source": [
        "####Indexed:\n",
        "Tuples are collections of items that are accessible by their index. This means you can access individual elements of a tuple using their position in the tuple.\n",
        "####Ordered:\n",
        "The elements in a tuple maintain the order in which they are defined. When you iterate through a tuple, you'll encounter its elements in the same order as they were initially defined.\n",
        "####Immutable:\n",
        "Tuples are immutable, meaning once they are created, their contents cannot be changed. You cannot add, remove, or modify elements of a tuple after it has been created.\n",
        "####Can contain duplicate items:\n",
        "Tuples can contain duplicate items. Each item in a tuple is distinct based on its value, but there can be multiple items with the same value."
      ],
      "metadata": {
        "id": "FCQ3VO3wgCnp"
      }
    },
    {
      "cell_type": "code",
      "source": [
        "thistuple = (\"car\", \"bus\", \"bike\")\n",
        "y = list(thistuple)\n",
        "y.append(\"orange\")\n",
        "thistuple = tuple(y)\n",
        "print(\"Updated tuple:\", thistuple)\n",
        "\n",
        "thistuple = (\"car\", \"bus\", \"bike\")\n",
        "del thistuple\n",
        "\n",
        "vehicles = (\"car\", \"bike\", \"bus\", \"train\", \"plane\")\n",
        "\n",
        "(car, *others, plane) = vehicles\n",
        "print(\"Car:\", car)\n",
        "print(\"Other vehicles:\", others)\n",
        "print(\"Plane:\", plane)\n",
        "\n",
        "languages = (\"Python\", \"Java\", \"C++\", \"JavaScript\")\n",
        "for language in languages:\n",
        "    print(\"Programming language:\", language)\n",
        "\n",
        "repeated_number = 5\n",
        "repetitions = 3\n",
        "repeated_tuple = tuple(range(repeated_number)) * repetitions\n",
        "print(\"Tuple with repeated elements:\", repeated_tuple)\n",
        "\n",
        "colors = (\"red\", \"green\", \"blue\")\n",
        "index = 0\n",
        "while index < len(colors):\n",
        "    print(\"Color:\", colors[index])\n",
        "    index += 1\n",
        "\n",
        "tuple1 = (1, 2, 3)\n",
        "tuple2 = (4, 5, 6)\n",
        "joined_tuple = tuple1 + tuple2\n",
        "print(\"Joined tuple:\", joined_tuple)\n",
        "\n",
        "animals = (\"cat\", \"dog\")\n",
        "mytuple = animals * 2\n",
        "print(\"Multiplied tuple:\", mytuple)\n"
      ],
      "metadata": {
        "colab": {
          "base_uri": "https://localhost:8080/"
        },
        "id": "tqtpN_dRgP6Z",
        "outputId": "f1f8b29a-e16e-4de3-ede4-7949a71529f1"
      },
      "execution_count": 7,
      "outputs": [
        {
          "output_type": "stream",
          "name": "stdout",
          "text": [
            "Updated tuple: ('car', 'bus', 'bike', 'orange')\n",
            "Car: car\n",
            "Other vehicles: ['bike', 'bus', 'train']\n",
            "Plane: plane\n",
            "Programming language: Python\n",
            "Programming language: Java\n",
            "Programming language: C++\n",
            "Programming language: JavaScript\n",
            "Tuple with repeated elements: (0, 1, 2, 3, 4, 0, 1, 2, 3, 4, 0, 1, 2, 3, 4)\n",
            "Color: red\n",
            "Color: green\n",
            "Color: blue\n",
            "Joined tuple: (1, 2, 3, 4, 5, 6)\n",
            "Multiplied tuple: ('cat', 'dog', 'cat', 'dog')\n"
          ]
        }
      ]
    },
    {
      "cell_type": "markdown",
      "source": [
        "####Slicing:\n",
        "Slicing allows you to extract a portion of the tuple by specifying a range of indices.\n",
        "####Indexing:\n",
        "Indexing allows you to access individual elements of a tuple by their position."
      ],
      "metadata": {
        "id": "u4lu3XSLhj_q"
      }
    },
    {
      "cell_type": "code",
      "source": [
        "# Slicing\n",
        "numbers = (1, 2, 3, 4, 5)\n",
        "subset = numbers[1:4]\n",
        "print(\"Subset:\", subset)\n",
        "\n",
        "even_numbers = numbers[::2]\n",
        "print(\"Even numbers:\", even_numbers)\n",
        "\n",
        "last_three = numbers[-3:]\n",
        "print(\"Last three elements:\", last_three)\n",
        "\n",
        "#indexing\n",
        "names = (\"navya\", \"teja\", \"ramani\")\n",
        "second_name = names[1]\n",
        "print(\"Second name:\", second_name)\n",
        "\n",
        "last_name = names[-1]\n",
        "print(\"Last name:\", last_name)\n",
        "\n",
        "\n",
        "colors = (\"red\", \"green\", \"blue\", \"yellow\", \"orange\")\n",
        "color_subset = colors[1:4]\n",
        "print(\"Color subset:\", color_subset)\n",
        "\n",
        "second_to_last_color = colors[-2]\n",
        "print(\"Second to last color:\", second_to_last_color)\n",
        "\n",
        "every_second_color = colors[::2]\n",
        "print(\"Every second color:\", every_second_color)\n",
        "\n"
      ],
      "metadata": {
        "colab": {
          "base_uri": "https://localhost:8080/"
        },
        "id": "-2yz3E78htyn",
        "outputId": "3110cd64-9e68-4956-8c64-2e4bd1c06403"
      },
      "execution_count": 9,
      "outputs": [
        {
          "output_type": "stream",
          "name": "stdout",
          "text": [
            "Subset: (2, 3, 4)\n",
            "Even numbers: (1, 3, 5)\n",
            "Last three elements: (3, 4, 5)\n",
            "Second name: teja\n",
            "Last name: ramani\n",
            "Color subset: ('green', 'blue', 'yellow')\n",
            "Second to last color: yellow\n",
            "Every second color: ('red', 'blue', 'orange')\n"
          ]
        }
      ]
    },
    {
      "cell_type": "markdown",
      "source": [
        "###BUILT-IN FUNCTIONS\n",
        "####1. len(list/tuple):\n",
        "Returns the number of elements in a list or tuple.\n",
        "####2. sum(list/tuple):\n",
        "Calculates the sum of all elements in a list or tuple.\n",
        "####3. max(list/tuple):\n",
        "Returns the maximum element in a list or tuple.\n",
        "####4.min(list/tuple):\n",
        "Returns the minimum element in a list or tuple.\n",
        "####5. sorted(list/tuple):\n",
        "Returns a new sorted list or tuple."
      ],
      "metadata": {
        "id": "FeadKk-Gi9Jz"
      }
    },
    {
      "cell_type": "code",
      "source": [
        "#len\n",
        "animals_tuple = (\"lion\", \"elephant\", \"zebra\", \"giraffe\")\n",
        "length = len(animals_tuple)\n",
        "print(\"Number of animals:\", length)\n",
        "\n",
        "#sum\n",
        "numbers_tuple = (10, 20, 30)\n",
        "total_sum = sum(numbers_tuple)\n",
        "print(\"Total sum of numbers:\", total_sum)\n",
        "\n",
        "#max\n",
        "weights_tuple = (150, 300, 200, 250)\n",
        "heaviest = max(weights_tuple)\n",
        "print(\"Heaviest animal weight:\", heaviest)\n",
        "\n",
        "#min\n",
        "ages_tuple = (5, 10, 3, 7)\n",
        "youngest = min(ages_tuple)\n",
        "print(\"Youngest animal age:\", youngest)\n",
        "\n",
        "#sorted\n",
        "heights_tuple = (180, 160, 170, 190)\n",
        "sorted_heights = sorted(heights_tuple)\n",
        "print(\"Sorted heights:\", sorted_heights)\n"
      ],
      "metadata": {
        "colab": {
          "base_uri": "https://localhost:8080/"
        },
        "id": "7WUqD5mpjkgP",
        "outputId": "d6b90ac4-fa48-4751-e8c4-9bff26f76345"
      },
      "execution_count": 10,
      "outputs": [
        {
          "output_type": "stream",
          "name": "stdout",
          "text": [
            "Number of animals: 4\n",
            "Total sum of numbers: 60\n",
            "Heaviest animal weight: 300\n",
            "Youngest animal age: 3\n",
            "Sorted heights: [160, 170, 180, 190]\n"
          ]
        }
      ]
    }
  ]
}
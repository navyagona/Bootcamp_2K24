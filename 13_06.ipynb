{
  "nbformat": 4,
  "nbformat_minor": 0,
  "metadata": {
    "colab": {
      "provenance": [],
      "authorship_tag": "ABX9TyPjAb10acu3vYfBmEQ/oG18",
      "include_colab_link": true
    },
    "kernelspec": {
      "name": "python3",
      "display_name": "Python 3"
    },
    "language_info": {
      "name": "python"
    }
  },
  "cells": [
    {
      "cell_type": "markdown",
      "metadata": {
        "id": "view-in-github",
        "colab_type": "text"
      },
      "source": [
        "<a href=\"https://colab.research.google.com/github/navyagona/python-practice/blob/main/13_06.ipynb\" target=\"_parent\"><img src=\"https://colab.research.google.com/assets/colab-badge.svg\" alt=\"Open In Colab\"/></a>"
      ]
    },
    {
      "cell_type": "markdown",
      "source": [
        "Step 1 is to install Python.\n",
        "\n",
        "The first thing that needs to be done is to install Python and pip. Go to the official python website with your preferred web browser. You can download the latest version of Python for Windows by hovering over the \"downloads\" tab. The download link will take you to a 26 MB installation. The setup process can be started after the download is complete. There are many options in the setup window. The box labeled \"Add Python to PATH\" needs to be checked. This action makes sure that Python commands can be recognized on your system. The \"Customize installation\" option includes additional features such as documentation, and the IDLE development environment. Proceed with the installation by following the instructions. You will be able to manage Python packages easily once the installation is completed\n",
        "\n",
        "step 2 is to install a database.\n",
        "\n",
        "After the installation of Python, the next step is to install the popular database management system. You can open your web browser again. Go to the Downloads section and choose \"MySQL Community GPL Downloads. \" You can choose \"MySQL Installer for Windows\" and download version 8. 28, which is approximately 435 MB in size. The installer should be run once the download is finished. You will be prompted to choose the type of installation during the installation. The \"Custom installation\" option allows you to select components to install. \"MySQL Shell\", \"MySQL server\", and \"MySQL workbench\" should be included. The tools are used to manage your database. To complete the installation, follow the instructions on the screen. You'll be asked to set a root password during this process. Make sure to remember the password if you want to access the server.\n",
        "\n",
        "step3 is configuring the MySQL database.\n",
        "\n",
        "The next step is configuring the environment variables to make sure that your system knows what you're talking about. The installation path of the server is usually C:Program FilesMySQL. Right-click on \"This PC\" or \"Computer\" on your desktop or in File Explorer and select \"Properties. \" Click on \"Advanced system settings\" to open theEnvironment Variables window. The \"Path\" variable can be found in the \"System variables\" section. If you want to save the changes, add a new entry with the path to the bin directory. Command Prompt can be used to verify thatMySQL has been installed correctly. The version of the database should be returned by this command. You can enter the root password during the installation of the MySQL shell. This step shows that the installation and operation of the database is correct.\n",
        "\n",
        "Step 4:Install MySQL Connector for Python\n",
        "\n",
        "With Python and MySQL set up, the next step is to install the MySQl connector for Python.This connector is necessary for Python to communicate with the MySQL database.Open Command Prompt and type the following command:pip install mysql-connector-python. This command will download and install the MySQL connector package.Make sureyour system is connected to the internet for the installation to proceed withoutanyissues.Once the installation is complete,the MySQL connector will be available for use in your Python scripts.\n",
        "\n",
        "Step 5: connect Python to MySQL\n",
        "finally, you want to create a Python script that uses the MySQL connector to set up a connection with the MySQL database. Open a textual content editor, inclusive of Notepad, and create a brand new report named example.py. Write the subsequent code inside the document to set up the relationship:"
      ],
      "metadata": {
        "id": "ue40eN1SCtS_"
      }
    },
    {
      "cell_type": "code",
      "execution_count": null,
      "metadata": {
        "id": "-7x5h7zB7F7O"
      },
      "outputs": [],
      "source": [
        "import mysql.connector\n",
        "conn= mysql.connector.connect(host='localhost',database=' ',user=' ',password=' ')\n",
        "if conn.is_connected():\n",
        "    print(\"connected\")\n",
        "\n"
      ]
    },
    {
      "cell_type": "markdown",
      "source": [
        "store the file and open Command prompt. Navigate to the listing in which instance.py is saved the use of the cd command. Run the script by using typing python instance.py. If the whole lot is set up efficiently, you ought to see the message \"Connection hooked up\" revealed within the Command activate. This confirms that Python has efficiently connected to the MySQL database."
      ],
      "metadata": {
        "id": "QvYjCAYPIUC3"
      }
    }
  ]
}
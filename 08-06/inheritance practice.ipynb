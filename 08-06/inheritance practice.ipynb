{
  "nbformat": 4,
  "nbformat_minor": 0,
  "metadata": {
    "colab": {
      "provenance": [],
      "name": "08-06.ipynb",
      "authorship_tag": "ABX9TyOTRLQgQolJ7yN5LJlnHKBR",
      "include_colab_link": true
    },
    "kernelspec": {
      "name": "python3",
      "display_name": "Python 3"
    },
    "language_info": {
      "name": "python"
    }
  },
  "cells": [
    {
      "cell_type": "markdown",
      "metadata": {
        "id": "view-in-github",
        "colab_type": "text"
      },
      "source": [
        "<a href=\"https://colab.research.google.com/github/navyagona/python-practice/blob/main/08_06.ipynb\" target=\"_parent\"><img src=\"https://colab.research.google.com/assets/colab-badge.svg\" alt=\"Open In Colab\"/></a>"
      ]
    },
    {
      "cell_type": "markdown",
      "source": [
        "INHERITANCE:in simple words we can say that one class can inherit properties and methods from another class ie.parent class\n",
        "MRO:the method or attributes is searched in the current class, if the method is not present in the current class, the search moves to the parent class."
      ],
      "metadata": {
        "id": "wWEkfZvmkHn5"
      }
    },
    {
      "cell_type": "code",
      "source": [
        "class food:\n",
        "  def typeof_food(self):\n",
        "    print(\"FOOD\")\n",
        "\n",
        "class preserved(food):\n",
        "  def typeof_food(self):\n",
        "    print(\"junk\")\n",
        "\n",
        "class fruits(food):\n",
        "  def typeof_food(self):\n",
        "    print(\"healthy\")\n",
        "\n",
        "class lays(preserved):\n",
        "  pass\n",
        "\n",
        "\n",
        "foods = [food(), preserved(), fruits(), lays()]\n",
        "for food in foods:\n",
        "  food.typeof_food()"
      ],
      "metadata": {
        "id": "p0ddiufeMnac",
        "outputId": "07e8cb13-72bd-4434-c306-7cb0002709f3",
        "colab": {
          "base_uri": "https://localhost:8080/"
        }
      },
      "execution_count": 4,
      "outputs": [
        {
          "output_type": "stream",
          "name": "stdout",
          "text": [
            "FOOD\n",
            "junk\n",
            "healthy\n",
            "junk\n"
          ]
        }
      ]
    },
    {
      "cell_type": "markdown",
      "source": [
        "there are 5 types of inheritance\n",
        "1.single inheritance:inherit properties from a single parent class"
      ],
      "metadata": {
        "id": "hh1Rp9ejPPlF"
      }
    },
    {
      "cell_type": "code",
      "source": [
        "class vehicle:\n",
        "  def vehicle_main(self):\n",
        "    print(\"VEHICLE\")\n",
        "class car(vehicle):\n",
        "  def sound_vehicle(self):\n",
        "    print(\"horn\")\n",
        "\n",
        "object = car()\n",
        "object.vehicle_main()\n",
        "object.sound_vehicle()"
      ],
      "metadata": {
        "id": "SsK2iyiZSaq5",
        "outputId": "1108d2d7-cca8-4f9e-d985-f682e9fe13f3",
        "colab": {
          "base_uri": "https://localhost:8080/"
        }
      },
      "execution_count": 6,
      "outputs": [
        {
          "output_type": "stream",
          "name": "stdout",
          "text": [
            "VEHICLE\n",
            "horn\n"
          ]
        }
      ]
    },
    {
      "cell_type": "markdown",
      "source": [
        "2.multiple inheritance:here a class can inherit properties from more than one parent class\n",
        "  in the below example frog inherit properties from both acquatic and noacquatic"
      ],
      "metadata": {
        "id": "GgbIEfe8TzV-"
      }
    },
    {
      "cell_type": "code",
      "source": [
        "class acquatic:\n",
        "  def swim(self):\n",
        "    print(\"water living\")\n",
        "class nonacquatic:\n",
        "  def walk(self):\n",
        "    print(\"lives on land\")\n",
        "\n",
        "class frog(acquatic, nonacquatic):\n",
        "   pass\n",
        "frog = frog()\n",
        "frog.swim()\n",
        "frog.walk()\n"
      ],
      "metadata": {
        "id": "bkpM-EgDVBgc",
        "outputId": "6db8c3d5-8bc6-4041-d3ed-2c9713fc3e67",
        "colab": {
          "base_uri": "https://localhost:8080/"
        }
      },
      "execution_count": 10,
      "outputs": [
        {
          "output_type": "stream",
          "name": "stdout",
          "text": [
            "water living\n",
            "lives on land\n"
          ]
        }
      ]
    },
    {
      "cell_type": "markdown",
      "source": [
        "3.multilevel inheritance:it is like a family tree you can inherit properties from parent,grandparents ie.classes"
      ],
      "metadata": {
        "id": "_UvFr520XiZB"
      }
    },
    {
      "cell_type": "code",
      "source": [
        "class Animal:\n",
        "    def speak(self):\n",
        "        print(\"Animal shout\")\n",
        "\n",
        "class Dog(Animal):\n",
        "    def bark(self):\n",
        "        print(\"Dog barks\")\n",
        "\n",
        "class pomerian(Dog):\n",
        "    def look_cute(self):\n",
        "        print(\"pomerian looks very cute\")\n",
        "\n",
        "pomerian = pomerian()\n",
        "pomerian.speak()\n",
        "pomerian.bark()\n",
        "pomerian.look_cute()"
      ],
      "metadata": {
        "id": "Bcz_78k8ZEsF",
        "outputId": "4c57c6df-00e9-4628-b435-485331010a6c",
        "colab": {
          "base_uri": "https://localhost:8080/"
        }
      },
      "execution_count": 15,
      "outputs": [
        {
          "output_type": "stream",
          "name": "stdout",
          "text": [
            "Animal shout\n",
            "Dog barks\n",
            "pomerian looks very cute\n"
          ]
        }
      ]
    },
    {
      "cell_type": "markdown",
      "source": [
        "4.Hierarchical Innheritance :it is a type of inheritance where one class serves as a base class for multiple derived classes. In this type of inheritance, each derived class inherits properties and behaviors from the same base class\n"
      ],
      "metadata": {
        "id": "dTmPy26FqftG"
      }
    },
    {
      "cell_type": "code",
      "source": [
        "class Shape:\n",
        "    def draw(self):\n",
        "        print(\"Drawing shape\")\n",
        "\n",
        "class Circle(Shape):\n",
        "    def calculate_area(self):\n",
        "        print(\" area of circle\")\n",
        "\n",
        "class Rectangle(Shape):\n",
        "    def calculate_area(self):\n",
        "        print(\" area of rectangle\")\n",
        "class triangle(Shape):\n",
        "    def calculate_area(self):\n",
        "        print(\" area of triangle\")\n",
        "\n",
        "circle = Circle()\n",
        "circle.draw()\n",
        "circle.calculate_area()\n",
        "\n",
        "rectangle = Rectangle()\n",
        "rectangle.draw()\n",
        "rectangle.calculate_area()\n",
        "\n",
        "triangle = triangle()\n",
        "triangle.draw()\n",
        "triangle.calculate_area()\n"
      ],
      "metadata": {
        "id": "cXnR__jGq2Rn",
        "outputId": "40ea2107-6349-420c-dd11-8b672ddba61c",
        "colab": {
          "base_uri": "https://localhost:8080/"
        }
      },
      "execution_count": 18,
      "outputs": [
        {
          "output_type": "stream",
          "name": "stdout",
          "text": [
            "Drawing shape\n",
            " area of circle\n",
            "Drawing shape\n",
            " area of rectangle\n",
            "Drawing shape\n",
            " area of triangle\n"
          ]
        }
      ]
    },
    {
      "cell_type": "markdown",
      "source": [
        "5.Hybrid Inheritance:it is a combination of different types of inheritance"
      ],
      "metadata": {
        "id": "SBUYBlO1shn2"
      }
    },
    {
      "cell_type": "code",
      "source": [
        "class Color:\n",
        "    def describe(self):\n",
        "        print(\"Color is described\")\n",
        "\n",
        "class Red(Color):\n",
        "    def describe(self):\n",
        "        print(\"Red color is described\")\n",
        "\n",
        "class Blue(Color):\n",
        "    def describe(self):\n",
        "        print(\"Blue color is described\")\n",
        "\n",
        "class Purple(Red, Blue):\n",
        "    def describe(self):\n",
        "        print(\"Purple color is described\")\n",
        "\n",
        "purple_color = Purple()\n",
        "purple_color.describe()\n"
      ],
      "metadata": {
        "id": "AJCpNd1AtKK_",
        "outputId": "78bebec7-55bc-4dd5-b326-1370a008bdef",
        "colab": {
          "base_uri": "https://localhost:8080/"
        }
      },
      "execution_count": 19,
      "outputs": [
        {
          "output_type": "stream",
          "name": "stdout",
          "text": [
            "Purple color is described\n"
          ]
        }
      ]
    },
    {
      "cell_type": "markdown",
      "source": [
        "Method overriding:here a subclass provides a specific implementation of a method that is already defined in its superclass."
      ],
      "metadata": {
        "id": "sX-LevLSvE6f"
      }
    },
    {
      "cell_type": "code",
      "source": [
        "class Animal:\n",
        "    def sound(self):\n",
        "        print(\"Animal makes a sound\")\n",
        "\n",
        "class Dog(Animal):\n",
        "    def sound(self):\n",
        "        print(\"Dog barks\")\n",
        "\n",
        "animal = Animal()\n",
        "animal.sound()\n",
        "\n",
        "dog = Dog()\n",
        "dog.sound()\n"
      ],
      "metadata": {
        "id": "BOna9VFJvMWk",
        "outputId": "48982fcb-ec2d-4906-fe88-4cc4471926ad",
        "colab": {
          "base_uri": "https://localhost:8080/"
        }
      },
      "execution_count": 20,
      "outputs": [
        {
          "output_type": "stream",
          "name": "stdout",
          "text": [
            "Animal makes a sound\n",
            "Dog barks\n"
          ]
        }
      ]
    },
    {
      "cell_type": "markdown",
      "source": [
        "super():it allows a subclass to call methods and access attributes of its superclass. It helps maintain the inheritance hierarchy by providing a way to access methods\n"
      ],
      "metadata": {
        "id": "E6RFIg-Bvf9b"
      }
    },
    {
      "cell_type": "code",
      "source": [
        "class Parent:\n",
        "    def __init__(self):\n",
        "        self.name = \"Parent\"\n",
        "\n",
        "    def show(self):\n",
        "        print(f\"I am {self.name}\")\n",
        "\n",
        "class Child(Parent):\n",
        "    def __init__(self):\n",
        "        super().__init__()\n",
        "        self.name = \"Child\"\n",
        "\n",
        "child = Child()\n",
        "child.show()\n"
      ],
      "metadata": {
        "id": "0gPaaq6MvyOA",
        "outputId": "937486ca-e212-4ea8-fbcd-c599547f1272",
        "colab": {
          "base_uri": "https://localhost:8080/"
        }
      },
      "execution_count": 21,
      "outputs": [
        {
          "output_type": "stream",
          "name": "stdout",
          "text": [
            "I am Child\n"
          ]
        }
      ]
    }
  ]
}

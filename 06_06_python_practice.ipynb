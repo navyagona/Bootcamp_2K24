{
  "nbformat": 4,
  "nbformat_minor": 0,
  "metadata": {
    "colab": {
      "provenance": [],
      "authorship_tag": "ABX9TyOT2Mpb5z1OfIQu7zkiEF0C",
      "include_colab_link": true
    },
    "kernelspec": {
      "name": "python3",
      "display_name": "Python 3"
    },
    "language_info": {
      "name": "python"
    }
  },
  "cells": [
    {
      "cell_type": "markdown",
      "metadata": {
        "id": "view-in-github",
        "colab_type": "text"
      },
      "source": [
        "<a href=\"https://colab.research.google.com/github/navyagona/python-practice/blob/main/06_06_python_practice.ipynb\" target=\"_parent\"><img src=\"https://colab.research.google.com/assets/colab-badge.svg\" alt=\"Open In Colab\"/></a>"
      ]
    },
    {
      "cell_type": "code",
      "execution_count": 2,
      "metadata": {
        "colab": {
          "base_uri": "https://localhost:8080/"
        },
        "id": "EABu-2MI4Rlv",
        "outputId": "3ac8c837-ef08-4be8-b7b6-24dcdd06c1db"
      },
      "outputs": [
        {
          "output_type": "stream",
          "name": "stdout",
          "text": [
            "Cloning into 'python-practice'...\n",
            "warning: You appear to have cloned an empty repository.\n"
          ]
        }
      ],
      "source": [
        "!git clone https://github.com/navyagona/python-practice"
      ]
    },
    {
      "cell_type": "code",
      "source": [
        "print(\"navya\")"
      ],
      "metadata": {
        "colab": {
          "base_uri": "https://localhost:8080/"
        },
        "id": "fDqblXF94xAm",
        "outputId": "52fcde51-5608-47d2-be36-0d6a9e679c52"
      },
      "execution_count": 3,
      "outputs": [
        {
          "output_type": "stream",
          "name": "stdout",
          "text": [
            "navya\n"
          ]
        }
      ]
    },
    {
      "cell_type": "markdown",
      "source": [
        "# New Section"
      ],
      "metadata": {
        "id": "bo1oUv3Q44Jm"
      }
    }
  ]
}
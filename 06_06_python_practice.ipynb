{
  "nbformat": 4,
  "nbformat_minor": 0,
  "metadata": {
    "colab": {
      "provenance": [],
      "authorship_tag": "ABX9TyOs4Ws5LQqLrEkI+BenM5Ct",
      "include_colab_link": true
    },
    "kernelspec": {
      "name": "python3",
      "display_name": "Python 3"
    },
    "language_info": {
      "name": "python"
    }
  },
  "cells": [
    {
      "cell_type": "markdown",
      "metadata": {
        "id": "view-in-github",
        "colab_type": "text"
      },
      "source": [
        "<a href=\"https://colab.research.google.com/github/navyagona/python-practice/blob/main/06_06_python_practice.ipynb\" target=\"_parent\"><img src=\"https://colab.research.google.com/assets/colab-badge.svg\" alt=\"Open In Colab\"/></a>"
      ]
    },
    {
      "cell_type": "code",
      "execution_count": 2,
      "metadata": {
        "colab": {
          "base_uri": "https://localhost:8080/"
        },
        "id": "EABu-2MI4Rlv",
        "outputId": "3ac8c837-ef08-4be8-b7b6-24dcdd06c1db"
      },
      "outputs": [
        {
          "output_type": "stream",
          "name": "stdout",
          "text": [
            "Cloning into 'python-practice'...\n",
            "warning: You appear to have cloned an empty repository.\n"
          ]
        }
      ],
      "source": [
        "!git clone https://github.com/navyagona/python-practice"
      ]
    },
    {
      "cell_type": "code",
      "source": [
        "print(\"navya\")"
      ],
      "metadata": {
        "colab": {
          "base_uri": "https://localhost:8080/"
        },
        "id": "fDqblXF94xAm",
        "outputId": "52fcde51-5608-47d2-be36-0d6a9e679c52"
      },
      "execution_count": 3,
      "outputs": [
        {
          "output_type": "stream",
          "name": "stdout",
          "text": [
            "navya\n"
          ]
        }
      ]
    },
    {
      "cell_type": "markdown",
      "source": [
        "# New Section"
      ],
      "metadata": {
        "id": "bo1oUv3Q44Jm"
      }
    },
    {
      "cell_type": "code",
      "source": [
        "# Input and Output\n",
        "name = input(\"Enter your name: \")\n",
        "print(\"Hello, \" + name + \"!\")\n",
        "\n",
        "print(\"Navya\", \"Teja\", \"Divya\", sep=\", \")\n",
        "print(\"my name is Navya.\", end=\" \")\n",
        "print(\"persuing btech.\")\n"
      ],
      "metadata": {
        "colab": {
          "base_uri": "https://localhost:8080/"
        },
        "id": "p1kPtfNUHCTx",
        "outputId": "a9b6eeec-67d9-4939-cb04-4c4de197ce83"
      },
      "execution_count": 5,
      "outputs": [
        {
          "output_type": "stream",
          "name": "stdout",
          "text": [
            "Enter your name: Ramani\n",
            "Hello, Ramani!\n",
            "Navya, Teja, Divya\n",
            "my name is Navya. persuing btech.\n"
          ]
        }
      ]
    },
    {
      "cell_type": "code",
      "source": [
        "\n",
        "# Addition\n",
        "a = 25\n",
        "b = 2\n",
        "print(\"Addition:\", a + b)\n",
        "\n",
        "# Subtraction\n",
        "print(\"Subtraction:\", a - b)\n",
        "\n",
        "# Multiplication\n",
        "print(\"Multiplication:\", a * b)\n",
        "\n",
        "# Division\n",
        "print(\"Division:\", a / b)\n",
        "\n",
        "# Floor Division\n",
        "print(\"Floor Division:\", a // b)\n",
        "\n",
        "# Modulus\n",
        "print(\"Modulus:\", a % b)\n",
        "\n",
        "# Exponentiation\n",
        "print(\"Exponentiation:\", a ** b)\n",
        "\n",
        "\n",
        "\n",
        "#COMPARISION OPERATORS\n",
        "# Equal to\n",
        "print(\"Equal to:\", a == b)\n",
        "\n",
        "# Not equal to\n",
        "print(\"Not equal to:\", a != b)\n",
        "\n",
        "# Greater than\n",
        "print(\"Greater than:\", a > b)\n",
        "# Less than\n",
        "print(\"Less than:\", a < b)\n",
        "\n",
        "# Greater than or equal to\n",
        "print(\"Greater than or equal to:\", a >= b)\n",
        "\n",
        "# Less than or equal to\n",
        "print(\"Less than or equal to:\", a <= b)\n",
        "\n",
        "#LOGICAL OPERATORS\n",
        "\n",
        "# Logical AND\n",
        "print(\"Logical AND:\", (a > 0) and (b > 0))\n",
        "\n",
        "# Logical OR\n",
        "print(\"Logical OR:\", (a > 0) or (b < 0))\n",
        "\n",
        "# Logical NOT\n",
        "print(\"Logical NOT:\", not (a > 0))\n",
        "\n",
        "\n"
      ],
      "metadata": {
        "colab": {
          "base_uri": "https://localhost:8080/"
        },
        "id": "57pV1ZNiH8Hz",
        "outputId": "657bd224-9792-4e5e-aab8-627c6f31d6c4"
      },
      "execution_count": 6,
      "outputs": [
        {
          "output_type": "stream",
          "name": "stdout",
          "text": [
            "Addition: 27\n",
            "Subtraction: 23\n",
            "Multiplication: 50\n",
            "Division: 12.5\n",
            "Floor Division: 12\n",
            "Modulus: 1\n",
            "Exponentiation: 625\n",
            "Equal to: False\n",
            "Not equal to: True\n",
            "Greater than: True\n",
            "Less than: False\n",
            "Greater than or equal to: True\n",
            "Less than or equal to: False\n",
            "Logical AND: True\n",
            "Logical OR: True\n",
            "Logical NOT: False\n"
          ]
        }
      ]
    },
    {
      "cell_type": "code",
      "source": [
        "\n",
        "\n",
        "# Converting to Integer\n",
        "float_num = 9.8\n",
        "int_num = int(float_num)\n",
        "print(f\"Converted {float_num} to integer: {int_num}\")\n",
        "\n",
        "str_num = \"123\"\n",
        "int_num = int(str_num)\n",
        "print(f\"Converted '{str_num}' to integer: {int_num}\")\n",
        "\n",
        "# Converting to Float\n",
        "int_num = 10\n",
        "float_num = float(int_num)\n",
        "print(f\"Converted {int_num} to float: {float_num}\")\n",
        "\n",
        "str_num = \"3.14\"\n",
        "float_num = float(str_num)\n",
        "print(f\"Converted '{str_num}' to float: {float_num}\")\n",
        "\n",
        "# Converting to String\n",
        "int_num = 100\n",
        "str_num = str(int_num)\n",
        "print(f\"Converted {int_num} to string: '{str_num}'\")\n",
        "\n",
        "float_num = 10.5\n",
        "str_num = str(float_num)\n",
        "print(f\"Converted {float_num} to string: '{str_num}'\")\n",
        "\n",
        "# Converting to List\n",
        "str_val = \"hello\"\n",
        "list_val = list(str_val)\n",
        "print(f\"Converted '{str_val}' to list: {list_val}\")\n",
        "\n",
        "# Converting to Tuple\n",
        "list_val = [1, 2, 3]\n",
        "tuple_val = tuple(list_val)\n",
        "print(f\"Converted {list_val} to tuple: {tuple_val}\")\n",
        "\n",
        "# Converting to Set\n",
        "list_val = [1, 2, 2, 3]\n",
        "set_val = set(list_val)\n",
        "print(f\"Converted {list_val} to set: {set_val}\")\n",
        "\n"
      ],
      "metadata": {
        "colab": {
          "base_uri": "https://localhost:8080/"
        },
        "id": "qYtb3Z9IO-DA",
        "outputId": "bae902cf-654c-44bc-e62f-0a3ef4bf683f"
      },
      "execution_count": 7,
      "outputs": [
        {
          "output_type": "stream",
          "name": "stdout",
          "text": [
            "Converted 9.8 to integer: 9\n",
            "Converted '123' to integer: 123\n",
            "Converted 10 to float: 10.0\n",
            "Converted '3.14' to float: 3.14\n",
            "Converted 100 to string: '100'\n",
            "Converted 10.5 to string: '10.5'\n",
            "Converted 'hello' to list: ['h', 'e', 'l', 'l', 'o']\n",
            "Converted [1, 2, 3] to tuple: (1, 2, 3)\n",
            "Converted [1, 2, 2, 3] to set: {1, 2, 3}\n"
          ]
        }
      ]
    },
    {
      "cell_type": "code",
      "source": [
        "#conditional statement\n",
        "num = 5\n",
        "if num > 5:\n",
        "    print(\"Number is greater than 5\")\n",
        "elif num == 5:\n",
        "    print(\"Number is equal to 5\")\n",
        "else:\n",
        "    print(\"Number is less than 5\")\n",
        "\n",
        "\n",
        "#(looping statements)\n",
        "# For\n",
        "states = [\"ap\", \"ts\", \"mp\"]\n",
        "for states in states:\n",
        "    print(states)\n",
        "print()\n",
        "\n",
        "# While\n",
        "count = 1\n",
        "while count <= 10:\n",
        "    print(count)\n",
        "    count += 1\n",
        "print()\n",
        "\n",
        "# Loop with `break`\n",
        "for number in range(1, 30):\n",
        "    if number == 15:\n",
        "        break\n",
        "    print(number)\n",
        "print()\n",
        "\n",
        "# Loop with `continue'\n",
        "for number in range(1, 15):\n",
        "    if number == 6:\n",
        "        continue\n",
        "    print(number)\n",
        "print()\n"
      ],
      "metadata": {
        "colab": {
          "base_uri": "https://localhost:8080/"
        },
        "id": "YZoGGmaxPqQ6",
        "outputId": "e97a7158-e799-410d-c608-218d3f7b14e4"
      },
      "execution_count": 10,
      "outputs": [
        {
          "output_type": "stream",
          "name": "stdout",
          "text": [
            "Number is equal to 5\n",
            "ap\n",
            "ts\n",
            "mp\n",
            "\n",
            "1\n",
            "2\n",
            "3\n",
            "4\n",
            "5\n",
            "6\n",
            "7\n",
            "8\n",
            "9\n",
            "10\n",
            "\n",
            "1\n",
            "2\n",
            "3\n",
            "4\n",
            "5\n",
            "6\n",
            "7\n",
            "8\n",
            "9\n",
            "10\n",
            "11\n",
            "12\n",
            "13\n",
            "14\n",
            "\n",
            "1\n",
            "2\n",
            "3\n",
            "4\n",
            "5\n",
            "7\n",
            "8\n",
            "9\n",
            "10\n",
            "11\n",
            "12\n",
            "13\n",
            "14\n",
            "\n"
          ]
        }
      ]
    },
    {
      "cell_type": "code",
      "source": [
        "# Special Functions\n",
        "\n",
        "# len()\n",
        "names = [\"nisha\", \"Teja\", \"Navya\",\"ayan\"]\n",
        "print(\"Length :\", len(names))\n",
        "print()\n",
        "\n",
        "# id()\n",
        "print(\"Unique ID \", id(names))\n",
        "print()\n",
        "\n",
        "# type()\n",
        "print(\"Type of names list:\", type(names))\n",
        "print()\n",
        "\n",
        "# range()\n",
        "print(\"Using range() to print numbers from 0 to 15:\")\n",
        "for i in range(13):\n",
        "    print(i)  # Output: 0 1 2 3 4\n"
      ],
      "metadata": {
        "colab": {
          "base_uri": "https://localhost:8080/"
        },
        "id": "y-_v0nyLTI77",
        "outputId": "f1b18119-b125-4651-8f17-5d1439b7c53a"
      },
      "execution_count": 12,
      "outputs": [
        {
          "output_type": "stream",
          "name": "stdout",
          "text": [
            "Length : 4\n",
            "\n",
            "Unique ID  140058142847744\n",
            "\n",
            "Type of names list: <class 'list'>\n",
            "\n",
            "Using range() to print numbers from 0 to 15:\n",
            "0\n",
            "1\n",
            "2\n",
            "3\n",
            "4\n",
            "5\n",
            "6\n",
            "7\n",
            "8\n",
            "9\n",
            "10\n",
            "11\n",
            "12\n"
          ]
        }
      ]
    }
  ]
}
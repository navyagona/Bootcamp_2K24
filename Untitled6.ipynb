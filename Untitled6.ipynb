{
  "nbformat": 4,
  "nbformat_minor": 0,
  "metadata": {
    "colab": {
      "provenance": [],
      "authorship_tag": "ABX9TyNP4o6IMVaszkZqAiZWzcxs",
      "include_colab_link": true
    },
    "kernelspec": {
      "name": "python3",
      "display_name": "Python 3"
    },
    "language_info": {
      "name": "python"
    }
  },
  "cells": [
    {
      "cell_type": "markdown",
      "metadata": {
        "id": "view-in-github",
        "colab_type": "text"
      },
      "source": [
        "<a href=\"https://colab.research.google.com/github/navyagona/python-practice/blob/main/Untitled6.ipynb\" target=\"_parent\"><img src=\"https://colab.research.google.com/assets/colab-badge.svg\" alt=\"Open In Colab\"/></a>"
      ]
    },
    {
      "cell_type": "markdown",
      "source": [
        "##SETS\n",
        "Sets are collections of unique elements, meaning each element appears only once in the set."
      ],
      "metadata": {
        "id": "Z6JQetRBQl8B"
      }
    },
    {
      "cell_type": "code",
      "source": [
        "\n",
        "my_set = {1, 2, 3, 4, 5}\n",
        "\n",
        "print(my_set)\n"
      ],
      "metadata": {
        "colab": {
          "base_uri": "https://localhost:8080/"
        },
        "id": "Fvc7fi6xQwAq",
        "outputId": "8ccdc55a-4c18-49b7-f410-052626b1e387"
      },
      "execution_count": 1,
      "outputs": [
        {
          "output_type": "stream",
          "name": "stdout",
          "text": [
            "{1, 2, 3, 4, 5}\n"
          ]
        }
      ]
    },
    {
      "cell_type": "markdown",
      "source": [
        "set operations:"
      ],
      "metadata": {
        "id": "SoIv1EuqRIT4"
      }
    },
    {
      "cell_type": "code",
      "source": [
        "#union()\n",
        "set1 = {'a', 'b', 'c'}\n",
        "set2 = {'c', 'd', 'e'}\n",
        "union_set = set1 | set2\n",
        "print(\"Union:\", union_set)\n",
        "\n",
        "# Intersection\n",
        "set1 = {2, 4, 6, 8, 10}\n",
        "set2 = {3, 6, 9, 12}\n",
        "intersection_set = set1 & set2\n",
        "print(\"Intersection:\", intersection_set)\n",
        "\n",
        "# Difference\n",
        "set1 = {'red', 'blue', 'green', 'yellow'}\n",
        "set2 = {'green', 'purple', 'yellow'}\n",
        "difference_set = set1 - set2\n",
        "print(\"Difference:\", difference_set)\n",
        "\n",
        "# Symmetric\n",
        "set1 = {'apple', 'banana', 'orange', 'kiwi'}\n",
        "set2 = {'banana', 'grape', 'kiwi', 'melon'}\n",
        "symmetric_difference_set = set1 ^ set2\n",
        "print(\"Symmetric Difference:\", symmetric_difference_set)\n",
        "\n",
        "\n",
        "\n"
      ],
      "metadata": {
        "colab": {
          "base_uri": "https://localhost:8080/"
        },
        "id": "hxw-_i9MRn1W",
        "outputId": "e2b434ed-23b9-4076-a294-98fe7285211b"
      },
      "execution_count": 2,
      "outputs": [
        {
          "output_type": "stream",
          "name": "stdout",
          "text": [
            "Union: {'e', 'c', 'b', 'd', 'a'}\n",
            "Intersection: {6}\n",
            "Difference: {'blue', 'red'}\n",
            "Symmetric Difference: {'apple', 'grape', 'orange', 'melon'}\n"
          ]
        }
      ]
    },
    {
      "cell_type": "markdown",
      "source": [
        "###set methods"
      ],
      "metadata": {
        "id": "1CLUfLuBSrAA"
      }
    },
    {
      "cell_type": "code",
      "source": [
        "#add(element)\n",
        "vehicles = {\"car\", \"truck\", \"motorcycle\"}\n",
        "print(\"Before add():\", vehicles)\n",
        "vehicles.add(\"bicycle\")\n",
        "print(\"After add():\", vehicles)\n",
        "\n",
        "# Remove(element)\n",
        "vehicles = {\"car\", \"truck\", \"motorcycle\"}\n",
        "print(\"Before remove():\", vehicles)\n",
        "vehicles.remove(\"truck\")\n",
        "print(\"After remove():\", vehicles)\n",
        "\n",
        "# Discard(element)\n",
        "vehicles = {\"car\", \"truck\", \"motorcycle\"}\n",
        "print(\"Before discard():\", vehicles)\n",
        "vehicles.discard(\"truck\")\n",
        "print(\"After discard():\", vehicles)\n",
        "\n",
        "# Pop()\n",
        "vehicles = {\"car\", \"truck\", \"motorcycle\"}\n",
        "print(\"Before pop():\", vehicles)\n",
        "removed_vehicle = vehicles.pop()\n",
        "print(\"After pop():\", removed_vehicle)\n",
        "\n",
        "# Clear\n",
        "vehicles = {\"car\", \"truck\", \"motorcycle\"}\n",
        "print(\"Before clear():\", vehicles)\n",
        "vehicles.clear()\n",
        "print(\"After clear():\", vehicles)\n",
        "\n",
        "# Copy()\n",
        "vehicles = {\"car\", \"truck\", \"motorcycle\"}\n",
        "print(\"Before copy():\", vehicles)\n",
        "copied_vehicles = vehicles.copy()\n",
        "print(\"After copy():\", copied_vehicles)\n",
        "\n",
        "# Update()\n",
        "vehicles = {\"car\", \"truck\", \"motorcycle\"}\n",
        "print(\"Before update():\", vehicles)\n",
        "vehicles.update([\"bicycle\", \"scooter\"])\n",
        "print(\"After update():\", vehicles)\n",
        "\n",
        "#issubset(other_set)\n",
        "set1 = {\"car\", \"truck\"}\n",
        "set2 = {\"car\", \"truck\", \"motorcycle\", \"bicycle\"}\n",
        "result = set1.issubset(set2)\n",
        "print(result)\n",
        "\n",
        "#issuperset(other_set)\n",
        "set1 = {\"apple\", \"banana\", \"orange\", \"grape\"}\n",
        "set2 = {\"apple\", \"banana\"}\n",
        "result = set1.issuperset(set2)\n",
        "print(result)\n",
        "\n",
        "\n",
        "#isdiajoint(other_set)\n",
        "set1 = {\"apple\", \"banana\"}\n",
        "set2 = {\"orange\", \"grape\"}\n",
        "result = set1.isdisjoint(set2)\n",
        "print(result)\n",
        "\n",
        "\n",
        "\n",
        "\n",
        "\n",
        "\n",
        "\n",
        "\n",
        "\n",
        "\n",
        "\n"
      ],
      "metadata": {
        "colab": {
          "base_uri": "https://localhost:8080/"
        },
        "id": "8ES7PfiFSvgI",
        "outputId": "2f2ba442-ba47-42fd-a99f-5f464d9f02ac"
      },
      "execution_count": 3,
      "outputs": [
        {
          "output_type": "stream",
          "name": "stdout",
          "text": [
            "Before add(): {'motorcycle', 'truck', 'car'}\n",
            "After add(): {'motorcycle', 'bicycle', 'truck', 'car'}\n",
            "Before remove(): {'motorcycle', 'truck', 'car'}\n",
            "After remove(): {'motorcycle', 'car'}\n",
            "Before discard(): {'motorcycle', 'truck', 'car'}\n",
            "After discard(): {'motorcycle', 'car'}\n",
            "Before pop(): {'motorcycle', 'truck', 'car'}\n",
            "After pop(): motorcycle\n",
            "Before clear(): {'motorcycle', 'truck', 'car'}\n",
            "After clear(): set()\n",
            "Before copy(): {'motorcycle', 'truck', 'car'}\n",
            "After copy(): {'motorcycle', 'truck', 'car'}\n",
            "Before update(): {'motorcycle', 'truck', 'car'}\n",
            "After update(): {'truck', 'bicycle', 'motorcycle', 'scooter', 'car'}\n",
            "True\n",
            "True\n",
            "True\n"
          ]
        }
      ]
    },
    {
      "cell_type": "markdown",
      "source": [
        "###Advanced set operations\n",
        "####Cartesian product:\n",
        "The Cartesian produc of sets is a way of combining elements from two sets to create pairs of elements."
      ],
      "metadata": {
        "id": "Eyr4BDclUDHB"
      }
    },
    {
      "cell_type": "code",
      "source": [
        "colors = {'red', 'green', 'blue'}\n",
        "shapes = {'circle', 'square', 'triangle'}\n",
        "\n",
        "cartesian_product = {(color, shape) for color in colors for shape in shapes}\n",
        "print(cartesian_product)\n"
      ],
      "metadata": {
        "colab": {
          "base_uri": "https://localhost:8080/"
        },
        "id": "hNXKsVAgWSIZ",
        "outputId": "dae41dae-5af7-448f-9e4c-5afff05a79b8"
      },
      "execution_count": 4,
      "outputs": [
        {
          "output_type": "stream",
          "name": "stdout",
          "text": [
            "{('blue', 'square'), ('red', 'triangle'), ('blue', 'triangle'), ('red', 'circle'), ('blue', 'circle'), ('green', 'square'), ('green', 'triangle'), ('red', 'square'), ('green', 'circle')}\n"
          ]
        }
      ]
    },
    {
      "cell_type": "markdown",
      "source": [
        "####power set:\n",
        "The power set of a set in Python is a set that contains all possible subsets of the original set, including the empty set and the set itself."
      ],
      "metadata": {
        "id": "Km4hqN_nWf9O"
      }
    },
    {
      "cell_type": "code",
      "source": [
        "letters = {'a', 'b', 'c'}\n",
        "\n",
        "def power_set(s):\n",
        "    if len(s) == 0:\n",
        "        return {frozenset()}\n",
        "    element = s.pop()\n",
        "    subsets = power_set(s)\n",
        "    return subsets.union({subset.union({element}) for subset in subsets})\n",
        "\n",
        "print(power_set(letters))\n"
      ],
      "metadata": {
        "colab": {
          "base_uri": "https://localhost:8080/"
        },
        "id": "B1cLS4CgWvD7",
        "outputId": "4c71dadd-db42-4409-e303-50725af7c146"
      },
      "execution_count": 5,
      "outputs": [
        {
          "output_type": "stream",
          "name": "stdout",
          "text": [
            "{frozenset({'b', 'a'}), frozenset({'c', 'b'}), frozenset({'c', 'b', 'a'}), frozenset({'c'}), frozenset({'b'}), frozenset({'c', 'a'}), frozenset(), frozenset({'a'})}\n"
          ]
        }
      ]
    },
    {
      "cell_type": "markdown",
      "source": [
        "####Frozen set:\n",
        "a frozen set is an immutable version of a set. Once created, the elements of a frozen set cannot be changed, added, or removed. This makes frozen sets useful when you need to create a set that remains constant and cannot be modified."
      ],
      "metadata": {
        "id": "5T3JS8mcW4Zt"
      }
    },
    {
      "cell_type": "code",
      "source": [
        "numbers = {1, 2, 3, 4}\n",
        "frozen_numbers = frozenset(numbers)\n",
        "print(frozen_numbers)\n"
      ],
      "metadata": {
        "colab": {
          "base_uri": "https://localhost:8080/"
        },
        "id": "2dFbzYDyXHH7",
        "outputId": "9f8c45ea-87d5-443a-a137-f414f630bd1b"
      },
      "execution_count": 6,
      "outputs": [
        {
          "output_type": "stream",
          "name": "stdout",
          "text": [
            "frozenset({1, 2, 3, 4})\n"
          ]
        }
      ]
    },
    {
      "cell_type": "markdown",
      "source": [
        "####Set Algebra (SymPy's BooleanAlgebra):\n",
        "SymPy's BooleanAlgebra module provides support for performing set algebra operations in Python."
      ],
      "metadata": {
        "id": "BDtBXnOKXNsC"
      }
    },
    {
      "cell_type": "code",
      "source": [
        "from sympy import symbols, Intersection, Union, Complement\n",
        "x, y, z = symbols('x y z')\n",
        "\n",
        "set3_expr = {2, 3, 4}\n",
        "set4_expr = {3, 4, 5}\n",
        "\n",
        "intersection2 = Intersection(set3_expr, set4_expr)\n",
        "print(\"Intersection:\", intersection2)\n",
        "\n",
        "union2 = Union(set3_expr, set4_expr)\n",
        "print(\"Union:\", union2)\n",
        "\n",
        "complement2 = Complement(set3_expr, set4_expr)\n",
        "print(\"Complement:\", complement2)"
      ],
      "metadata": {
        "colab": {
          "base_uri": "https://localhost:8080/"
        },
        "id": "M6MhAsRLXbfR",
        "outputId": "77eac898-6642-4c38-fdb0-b2e7445e1daf"
      },
      "execution_count": 10,
      "outputs": [
        {
          "output_type": "stream",
          "name": "stdout",
          "text": [
            "Intersection: {3, 4}\n",
            "Union: {2, 3, 4, 5}\n",
            "Complement: {2}\n"
          ]
        }
      ]
    }
  ]
}
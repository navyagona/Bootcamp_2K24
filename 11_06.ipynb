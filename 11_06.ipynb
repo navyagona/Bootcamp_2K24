{
  "nbformat": 4,
  "nbformat_minor": 0,
  "metadata": {
    "colab": {
      "provenance": [],
      "authorship_tag": "ABX9TyNq4y7A8dfHr+qPGIoJzXB0",
      "include_colab_link": true
    },
    "kernelspec": {
      "name": "python3",
      "display_name": "Python 3"
    },
    "language_info": {
      "name": "python"
    }
  },
  "cells": [
    {
      "cell_type": "markdown",
      "metadata": {
        "id": "view-in-github",
        "colab_type": "text"
      },
      "source": [
        "<a href=\"https://colab.research.google.com/github/navyagona/python-practice/blob/main/11_06.ipynb\" target=\"_parent\"><img src=\"https://colab.research.google.com/assets/colab-badge.svg\" alt=\"Open In Colab\"/></a>"
      ]
    },
    {
      "cell_type": "markdown",
      "source": [
        "#TKINTER\n",
        "###Introduction\n",
        "Tkinter is a standard Python library for creating graphical user interfaces (GUIs). It provides a powerful tooltip for Tk GUI tools that are widely used and available on most Unix platforms and Windows systems. Tkinter allows developers to create windows, buttons, labels, text boxes, etc. without writing any custom code. It allows creating cross-platform applications using graphical elements.TKinter is an open source GUI tool for Python. TKinter is a wrapper for the tcl/TK graphical interface. TKinter is popular due to its simplicity and has a very old and active community. It is also available in most Python binary distributions. TKinter is fully portable on Macintosh, Windows and Linux platforms. This is a starter kit like TKinter which is great for small GUI applications\n",
        "\n",
        "The name \"Tkinter\" is derived from \"Tk interface\" and refers to the Tk GUI tools on which Tkinter is based. Tkinter provides a way to create interactive text by creating windows, buttons, labels, text boxes, and other GUI objects.\n",
        "Tkinter is preferred for the following reasons:\n",
        "Easy to learn. , can be used in macOS and Linux.\n",
        "\n",
        "####Tkinter used in\n",
        "Windows and Dialogs: Tkinter allows you to create main application windows through which users can interact with your program. Tkinter includes integrated dialogs such as text boxes, file open/save dialogs, and color options, making integration easier without having to create them from scratch.\n",
        "\n",
        "\n",
        "GUI for graphical applications: Tkinter can be used to create beautiful graphics for desktop applications. This includes:\n",
        "Element: An interactive feature that runs when clicked. Text box: An input field where users can type text.\n",
        "\n",
        "\n",
        "Add GUI to command line and add GUI to command line services: Many command line services can benefit from a graphical interface, making them more useful. Tkinter can be used to:\n",
        "Simplify user interaction: replace cumbersome command lines with buttons, drop-down menus and input fields. br> Visualize data: Display data and make it more understandable and visually appealing.\n",
        "\n",
        "\n",
        "Create Custom Tools\n",
        "Custom Tools: While Tkinter includes many home tools (like buttons, labels, and text boxes), it also allows you to create your own used elements. This is useful when:\n",
        "When the existing widget is not enough: You need functionality or design that the built-in widget cannot provide. Reusable components.\n",
        "\n",
        "\n",
        "\n",
        "GUI Prototyping GUI Prototyping: Tkinter is great for creating quick GUI prototypes. This allows you to:\n",
        "Generate design ideas: test different models, patterns and interactions before finalizing your design. .\n",
        "Writing proposals: Introduce the model to users or stakeholders to gather feedback and make design decisions. Risk of change.\n",
        "\n",
        "####widgets\n",
        "In Tkinter, widgets are essentially graphical components that users can interact with. They can range from simple elements such as buttons and labels to more complex elements such as input fields, lists, and canvases. Each widget serves a specific purpose and can be customized to meet the design and functionality of your app.\n",
        "\n",
        "Widget Categories\n",
        "In Tkinter, a Python library for GUI creation, each widget type is identified by a specific category. Categories are like blueprints that define the widget's functionality and appearance. class creates a text box into which you can enter a text string. Menu creation type. For example, you can change the button's text, color, or what happens when you click the button.\n",
        "\n",
        "#####widget basics:\n",
        "**Button**: This class creates buttons.\n",
        "**Label**: This class creates labels, which are used to show text or images.\n",
        "**Entry**: This class creates text boxes where you can enter one line of text.\n",
        "**Text**: This class creates bigger text areas where you can enter multiple lines of text.\n",
        "**Frame**: This class creates containers that can hold and organize other widgets.\n",
        "**Canvas**: This class creates an area where you can draw shapes or display images.\n",
        "**Listbox**: This class creates a list from which you can select items.\n",
        "Menu: This class creates menus.\n",
        "\n",
        "\n",
        "\n",
        "```\n",
        "from tkinter import *\n",
        "\n",
        "root = Tk()\n",
        "\n",
        "label = Label(root, text=\"Hello, World!\")\n",
        "label.pack()\n",
        "\n",
        "root.mainloop()\n",
        "\n",
        "```\n",
        "from tkinter import *:\n",
        "This line imports everything we need from Tkinter, a library for creating GUIs in Python. By using tkinter import * import we bring all the tools needed to create GUI without needing to write tkinter. before anyone else.\n",
        "\n",
        "root = Tk():\n",
        "Here we create the main window of the application. Think of this as a blank canvas on which we will place all our GUI elements. The tk() function sets up this window, including the title bar and control buttons.\n",
        "\n",
        "Label: This creates a text label that we will use to display \"hello, world!\" on our window.\n",
        "root: we are making the primary window (root) the figure of our label, so it'll seem inside the predominant window.\n",
        "text=\"hello, world!\": sets the text that'll be displayed on the label.\n",
        "p.c.(): This technique adds the label to the window and manages its role. it is like putting the label in a container and letting Tkinter determine where in to place it\n",
        "\n",
        "root.mainloop():\n",
        "This method fires the Tkinter event loop, allowing the window to open and respond to user actions such as clicking a button. It will continue to run until we close the window, ensuring our GUI is still interactive.\n"
      ],
      "metadata": {
        "id": "6RUBXonXBaWm"
      }
    },
    {
      "cell_type": "code",
      "source": [
        "import tkinter as tk\n",
        "from tkinter import messagebox\n",
        "\n",
        "def show_message():\n",
        "    messagebox.showinfo(\"Message\", \"Hello, Tkinter!\")\n",
        "\n",
        "def show_entry_value():\n",
        "    value = entry.get()\n",
        "    messagebox.showinfo(\"Entry Value\", f\"The entry value is: {value}\")\n",
        "\n",
        "def show_checkbutton_state():\n",
        "    state = check_var.get()\n",
        "    if state == 1:\n",
        "        messagebox.showinfo(\"Checkbutton State\", \"Checkbutton is checked\")\n",
        "    else:\n",
        "        messagebox.showinfo(\"Checkbutton State\", \"Checkbutton is not checked\")\n",
        "\n",
        "root = tk.Tk()\n",
        "root.title(\"Basic Widgets Example\")\n",
        "\n",
        "label = tk.Label(root, text=\"Hello, Tkinter!\")\n",
        "label.pack(pady=10)\n",
        "\n",
        "message_button = tk.Button(root, text=\"Show Message\", command=show_message)\n",
        "message_button.pack(pady=5)\n",
        "\n",
        "entry = tk.Entry(root)\n",
        "entry.pack(pady=5)\n",
        "\n",
        "entry_button = tk.Button(root, text=\"Show Entry Value\", command=show_entry_value)\n",
        "entry_button.pack(pady=5)\n",
        "\n",
        "check_var = tk.IntVar()\n",
        "checkbutton = tk.Checkbutton(root, text=\"Check me\", variable=check_var)\n",
        "checkbutton.pack(pady=5)\n",
        "\n",
        "checkbutton_button = tk.Button(root, text=\"Show Checkbutton State\", command=show_checkbutton_state)\n",
        "checkbutton_button.pack(pady=5)\n",
        "\n",
        "root.mainloop()\n",
        "\n"
      ],
      "metadata": {
        "id": "FSpUZ0Rr2MVv"
      },
      "execution_count": null,
      "outputs": []
    },
    {
      "cell_type": "markdown",
      "source": [
        "![git.jpg](data:image/jpeg;base64,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)"
      ],
      "metadata": {
        "id": "7IgLzNl1KWV1"
      }
    }
  ]
}